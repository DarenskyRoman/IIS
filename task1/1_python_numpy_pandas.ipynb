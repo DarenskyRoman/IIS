{
  "cells": [
    {
      "cell_type": "markdown",
      "id": "4fa1a65e",
      "metadata": {
        "tags": [],
        "id": "4fa1a65e"
      },
      "source": [
        "# Основные понятия Python"
      ]
    },
    {
      "cell_type": "markdown",
      "id": "126b2c5c",
      "metadata": {
        "tags": [],
        "id": "126b2c5c"
      },
      "source": [
        "## Условные выражения (IF...ELSE, IF...ELIF)"
      ]
    },
    {
      "cell_type": "markdown",
      "id": "36161eb9",
      "metadata": {
        "id": "36161eb9"
      },
      "source": [
        "*Конструкиця IF...ELSE*\n",
        "\n",
        "- `if (expression):\n",
        "    (code_area1)\n",
        "   else:\n",
        "    (code_area2)`\n",
        "    \n",
        "*Конструкиця IF...ELIF*\n",
        "\n",
        "- `if (expression1):\n",
        "    (code_area1)\n",
        "   elif (expression2):\n",
        "    (code_area2)`\n",
        "    "
      ]
    },
    {
      "cell_type": "markdown",
      "id": "36991263",
      "metadata": {
        "id": "36991263"
      },
      "source": [
        "### Задание 1.1.1"
      ]
    },
    {
      "cell_type": "markdown",
      "id": "0f7df11b",
      "metadata": {
        "ExecuteTime": {
          "end_time": "2023-09-06T10:36:07.912866Z",
          "start_time": "2023-09-06T10:36:07.905812Z"
        },
        "id": "0f7df11b"
      },
      "source": [
        "(**1 балл**) Написать программу, которая будет выводить:\n",
        "- \"Неудовлетворительно\", нсли студент набрал от 0-39 баллов\n",
        "- \"Удовлетворительно\", если студент набрал от 40-59 баллов\n",
        "- \"Хорошо\", если студент набрал от 60-79\n",
        "- \"Отлично\", если студент набрал от 80-100"
      ]
    },
    {
      "cell_type": "code",
      "execution_count": 15,
      "id": "a8ea330e",
      "metadata": {
        "ExecuteTime": {
          "end_time": "2023-09-06T10:09:37.525370Z",
          "start_time": "2023-09-06T10:09:33.114623Z"
        },
        "colab": {
          "base_uri": "https://localhost:8080/"
        },
        "id": "a8ea330e",
        "outputId": "e560f555-d32b-4844-b66e-e32f06cf5803"
      },
      "outputs": [
        {
          "output_type": "stream",
          "name": "stdout",
          "text": [
            "Введите количество баллов: 67\n",
            "Score:  67\n",
            "Хорошо\n"
          ]
        }
      ],
      "source": [
        "#Решение задания 1.1.1#\n",
        "\n",
        "try:\n",
        "    score = int(input(\"Введите количество баллов: \"))\n",
        "    print(\"Score: \", score)\n",
        "\n",
        "    if (-1 < score <= 39):\n",
        "        print(\"Неудовлетворительно\")\n",
        "\n",
        "    elif (39 < score <= 59):\n",
        "        print(\"Удовлетворительно\")\n",
        "\n",
        "    elif (59 < score <= 79):\n",
        "        print(\"Хорошо\")\n",
        "\n",
        "    elif (79 < score <= 100):\n",
        "        print(\"Отлично\")\n",
        "\n",
        "    else:\n",
        "        print(\"Введено значение вне диапазона 0-100\")\n",
        "\n",
        "except ValueError:\n",
        "\t  print('Требуется целое число.')\n",
        "\n"
      ]
    },
    {
      "cell_type": "markdown",
      "source": [
        "**+1 балл**\n",
        "\n",
        "Что можно сделать лучше:\n",
        "\n",
        "\n",
        "* с большой буквы пишутся в python обычно только названия классов, поэтому лучше Score заменить на score\n",
        "* хотелось бы иметь возможность вводить score с клавиатуры, а не выбирать случайно: `score = int(input(\"Введите количество баллов: \"))`\n",
        "* можно вместо условия `(x < score and score <= y)` писать просто `x < score <= y`\n",
        "\n",
        "\n"
      ],
      "metadata": {
        "id": "OxjRph3QSEJ3"
      },
      "id": "OxjRph3QSEJ3"
    },
    {
      "cell_type": "markdown",
      "id": "ad0af701",
      "metadata": {
        "tags": [],
        "id": "ad0af701"
      },
      "source": [
        "## Функции"
      ]
    },
    {
      "cell_type": "markdown",
      "id": "4b633e51",
      "metadata": {
        "id": "4b633e51"
      },
      "source": [
        "*Функции должны делать одну вещь и делать ее хорошо и делать только ее.  © Роберт С. Мартин*\n",
        "\n",
        "`def имя_функции(параметры):\n",
        "     определение функции`\n",
        "     \n",
        "\n",
        "\n",
        "\n",
        "\n",
        "    \n",
        "    \n",
        "    "
      ]
    },
    {
      "cell_type": "markdown",
      "id": "3d0fc20d",
      "metadata": {
        "tags": [],
        "id": "3d0fc20d"
      },
      "source": [
        "### Задание 1.1.2"
      ]
    },
    {
      "cell_type": "markdown",
      "id": "e70530f6",
      "metadata": {
        "id": "e70530f6"
      },
      "source": [
        "(**1 балл**) Напишите программу с двумя функциями. Первая функция должна принимать в качестве параметра целое число и возвращать результат умножения этого числа на 2. Вторая функция должна принимать в качестве параметра целое число и возвращать результат деления этого числа на 4. Вызовите первую функцию, сохраните результат в пременной и передайте ее в качестве параметра во вторую функцию.\n"
      ]
    },
    {
      "cell_type": "code",
      "execution_count": 16,
      "id": "bfdecbb9",
      "metadata": {
        "ExecuteTime": {
          "end_time": "2023-09-06T10:54:46.071283Z",
          "start_time": "2023-09-06T10:54:43.762666Z"
        },
        "colab": {
          "base_uri": "https://localhost:8080/"
        },
        "id": "bfdecbb9",
        "outputId": "d01fea54-e0c2-44de-ba89-04030aec5c6c"
      },
      "outputs": [
        {
          "output_type": "stream",
          "name": "stdout",
          "text": [
            "Введите целое число: -1\n",
            "Результат: -0.5\n"
          ]
        }
      ],
      "source": [
        "#Решение задания 1.1.2#\n",
        "def multiply_by_2(a):\n",
        "    return a * 2\n",
        "\n",
        "def divide_by_4(a):\n",
        "    return a / 4.0\n",
        "\n",
        "try:\n",
        "    a = int(input(\"Введите целое число: \")) #Произвольное число\n",
        "    a = multiply_by_2(a)\n",
        "    a = divide_by_4(a)\n",
        "    print(\"Результат:\", a)\n",
        "\n",
        "except ValueError:\n",
        "\t  print('Требуется целое число.')\n",
        "\n",
        "except NameError:\n",
        "\t  print('Переменные не были определены.')"
      ]
    },
    {
      "cell_type": "markdown",
      "source": [
        "**+1 балл**\n",
        "\n",
        "Что можно сделать лучше:\n",
        "\n",
        "\n",
        "* с большой буквы и через camel-style пишутся в python обычно только названия классов, поэтому лучше `FirstFunction` заменить на `first_function`\n",
        "* названия функции должна отражать то, что функция делает, поэтому лучше было бы назвать `multiply_by_2` и `divide_by_4`"
      ],
      "metadata": {
        "id": "0pDij1Q4UDK2"
      },
      "id": "0pDij1Q4UDK2"
    },
    {
      "cell_type": "markdown",
      "id": "6b857885",
      "metadata": {
        "tags": [],
        "id": "6b857885"
      },
      "source": [
        "# Библиотека NumPy"
      ]
    },
    {
      "cell_type": "markdown",
      "id": "147f51e0",
      "metadata": {
        "id": "147f51e0"
      },
      "source": [
        "**NumPy** (от Numerical Python - \"числовой Python\") - библиотека, предназначенная для работы с числовыми массивами, как одномерными, так и многомерными. Массивы библиотеки NumPy похожи на встроенный тип данных Python list, но обеспечивает гораздо более эффективное хранение и операциис данными при росте размера массивов."
      ]
    },
    {
      "cell_type": "code",
      "execution_count": null,
      "id": "f701f532",
      "metadata": {
        "ExecuteTime": {
          "end_time": "2023-09-06T11:38:28.471121Z",
          "start_time": "2023-09-06T11:38:28.463536Z"
        },
        "id": "f701f532"
      },
      "outputs": [],
      "source": [
        "#импорт библиотеки\n",
        "\n",
        "import numpy as np"
      ]
    },
    {
      "cell_type": "markdown",
      "id": "c34c5640",
      "metadata": {
        "id": "c34c5640"
      },
      "source": [
        "Дан двумерный массив:"
      ]
    },
    {
      "cell_type": "code",
      "execution_count": null,
      "id": "dcd85c8a",
      "metadata": {
        "ExecuteTime": {
          "end_time": "2023-09-06T12:21:29.717433Z",
          "start_time": "2023-09-06T12:21:29.701783Z"
        },
        "id": "dcd85c8a",
        "outputId": "e97e2277-8843-4ec2-b774-7cf7a4da285a"
      },
      "outputs": [
        {
          "data": {
            "text/plain": [
              "array([[12,  5,  0,  3],\n",
              "       [11,  3,  7,  9],\n",
              "       [ 3,  5,  2,  4]])"
            ]
          },
          "execution_count": 37,
          "metadata": {},
          "output_type": "execute_result"
        }
      ],
      "source": [
        "x = np.array([[12, 5, 0, 3],\n",
        "              [11, 3, 7, 9],\n",
        "              [3, 5, 2, 4]])\n",
        "\n",
        "x"
      ]
    },
    {
      "cell_type": "markdown",
      "id": "72802953",
      "metadata": {
        "ExecuteTime": {
          "end_time": "2023-09-06T11:43:46.273339Z",
          "start_time": "2023-09-06T11:43:46.269378Z"
        },
        "id": "72802953"
      },
      "source": [
        "## Задание 1.2.1"
      ]
    },
    {
      "cell_type": "markdown",
      "id": "a5b48096",
      "metadata": {
        "id": "a5b48096"
      },
      "source": [
        "(**2 балла**) С использованием функции библиотеки NumPy посчитать:\n",
        "- сколько элементов меньше 8 в данном массиве\n",
        "- сколько элементов меньше 6 в каждой строке массива\n",
        "- сколько элементов больше 4 в каждом столбце"
      ]
    },
    {
      "cell_type": "code",
      "execution_count": 38,
      "id": "b43e7fe1",
      "metadata": {
        "ExecuteTime": {
          "end_time": "2023-09-06T12:23:21.380462Z",
          "start_time": "2023-09-06T12:23:21.372941Z"
        },
        "colab": {
          "base_uri": "https://localhost:8080/"
        },
        "id": "b43e7fe1",
        "outputId": "711c8cbe-66e5-48c9-e127-469fcfd09bbc"
      },
      "outputs": [
        {
          "output_type": "stream",
          "name": "stdout",
          "text": [
            "Under 8:  9\n",
            "Under 6, each row:  [3 1 4]\n",
            "Above 4, each column:  [2 2 1 1]\n"
          ]
        }
      ],
      "source": [
        "#Решение#\n",
        "import numpy as np\n",
        "\n",
        "\n",
        "x = np.array([[12, 5, 0, 3],\n",
        "              [11, 3, 7, 9],\n",
        "              [3, 5, 2, 4]])\n",
        "\n",
        "print(\"Under 8: \", np.sum(x < 8))\n",
        "print(\"Under 6, each row: \", np.sum(x < 6, axis=1))\n",
        "print(\"Above 4, each column: \", np.sum(x > 4, axis=0))\n"
      ]
    },
    {
      "cell_type": "markdown",
      "source": [
        "**Что точно стоит улучшить:**\n",
        "\n",
        "В numpy практически все действия можно делать без циклов. Это будет и очень быстро работать и легко читаться\n",
        "\n",
        "Например, чтобы посчитать количество элементов меньше 8, мы можем сначала сделать так:"
      ],
      "metadata": {
        "id": "-M_4Vyx_U20c"
      },
      "id": "-M_4Vyx_U20c"
    },
    {
      "cell_type": "code",
      "source": [
        "# получим матрицу, где каждый элемент - это булевое значение. True, если данный элемент < 8 и False в противном случае\n",
        "x < 8"
      ],
      "metadata": {
        "colab": {
          "base_uri": "https://localhost:8080/"
        },
        "id": "6MKXJqJ1VdFT",
        "outputId": "15ae8716-5c7d-4eab-f64b-19974915c910"
      },
      "id": "6MKXJqJ1VdFT",
      "execution_count": null,
      "outputs": [
        {
          "output_type": "execute_result",
          "data": {
            "text/plain": [
              "array([[False,  True,  True,  True],\n",
              "       [False,  True,  True, False],\n",
              "       [ True,  True,  True,  True]])"
            ]
          },
          "metadata": {},
          "execution_count": 2
        }
      ]
    },
    {
      "cell_type": "code",
      "source": [
        "# теперь нам достаточно просто посчитать количество элементов, которые имеют значение True\n",
        "# мы можем это сделать простым np.sum(), т.к. при суммировании True превращается в 1, а False в 0:\n",
        "np.sum(x < 8)"
      ],
      "metadata": {
        "colab": {
          "base_uri": "https://localhost:8080/"
        },
        "id": "bw3LB6PHVsou",
        "outputId": "74030587-e2fb-4e04-871f-bb0d7f345245"
      },
      "id": "bw3LB6PHVsou",
      "execution_count": null,
      "outputs": [
        {
          "output_type": "execute_result",
          "data": {
            "text/plain": [
              "9"
            ]
          },
          "metadata": {},
          "execution_count": 3
        }
      ]
    },
    {
      "cell_type": "markdown",
      "source": [
        "Практически все функции в np имеют параметр axis (ось), который используется для работы с определенной осью (axis=0 отвечает за \"направление\" строк, а axis=1 за \"направление\" столбцов). Например, в данном задании, если мы хотим посчитать, сколько элементов меньше 6 в каждой строке массива, мы можем сделать так:"
      ],
      "metadata": {
        "id": "f29XyqulWAWo"
      },
      "id": "f29XyqulWAWo"
    },
    {
      "cell_type": "code",
      "source": [
        "# т.к. хотим суммировать по \"направлению\" столбцов и таким образом для каждой строки получаем сумму по всем столбцам:\n",
        "np.sum(x < 6, axis=1)"
      ],
      "metadata": {
        "colab": {
          "base_uri": "https://localhost:8080/"
        },
        "id": "GPhdV-XJVdi_",
        "outputId": "549a5a07-9f62-49c7-bc4a-2f319348d4b6"
      },
      "id": "GPhdV-XJVdi_",
      "execution_count": null,
      "outputs": [
        {
          "output_type": "execute_result",
          "data": {
            "text/plain": [
              "array([3, 1, 4])"
            ]
          },
          "metadata": {},
          "execution_count": 4
        }
      ]
    },
    {
      "cell_type": "code",
      "source": [
        "# нужно будет доделать последнее задание самостоятельно"
      ],
      "metadata": {
        "id": "19BA8QC2Xjg0"
      },
      "id": "19BA8QC2Xjg0",
      "execution_count": null,
      "outputs": []
    },
    {
      "cell_type": "markdown",
      "id": "08d2f48a",
      "metadata": {
        "id": "08d2f48a"
      },
      "source": [
        "С использованием функции библиотеки NumPy выяснить:\n",
        "- имеются ли в массиве какие-либо значения, превышающие 13\n",
        "- все ли значения в каждой строке кратны двум"
      ]
    },
    {
      "cell_type": "code",
      "execution_count": 31,
      "id": "27486811",
      "metadata": {
        "ExecuteTime": {
          "end_time": "2023-09-06T12:09:22.570102Z",
          "start_time": "2023-09-06T12:09:22.562938Z"
        },
        "colab": {
          "base_uri": "https://localhost:8080/"
        },
        "id": "27486811",
        "outputId": "126250fc-0761-4465-b41c-05d0271bc291"
      },
      "outputs": [
        {
          "output_type": "stream",
          "name": "stdout",
          "text": [
            "Any above 13:  False\n",
            "All elements even in a row:  [False False False]\n"
          ]
        }
      ],
      "source": [
        "#Решение#\n",
        "import numpy as np\n",
        "\n",
        "\n",
        "x = np.array([[12, 5, 0, 3],\n",
        "              [11, 3, 7, 9],\n",
        "              [3, 5, 2, 4]])\n",
        "\n",
        "print(\"Any above 13: \", np.any(x > 13))\n",
        "print(\"All elements even in a row: \", np.all(x % 2 == 0, axis=1))\n",
        "\n"
      ]
    },
    {
      "cell_type": "markdown",
      "source": [
        "**Что улучшить:**\n",
        "\n",
        "В первом задании можно использовать ту же идею с `x > 13`, а затем использовать `np.any`\n",
        "\n",
        "Во втором аналогично, но уже использовать `np.all` с указанием нужной `axis`\n"
      ],
      "metadata": {
        "id": "WmsWI5CCYiVm"
      },
      "id": "WmsWI5CCYiVm"
    },
    {
      "cell_type": "markdown",
      "id": "1ca98b23",
      "metadata": {
        "id": "1ca98b23"
      },
      "source": [
        "Создать еще один **рандомный** массив, объединить его с уже имеющимся и с помощью функций NumPy найти максимальный элемент в каждой строке."
      ]
    },
    {
      "cell_type": "code",
      "execution_count": 40,
      "id": "a3563921",
      "metadata": {
        "ExecuteTime": {
          "end_time": "2023-09-06T12:25:43.932528Z",
          "start_time": "2023-09-06T12:25:43.921482Z"
        },
        "colab": {
          "base_uri": "https://localhost:8080/"
        },
        "id": "a3563921",
        "outputId": "18754a9a-d55d-46dd-aa7e-9b0f5a0fe8ba"
      },
      "outputs": [
        {
          "output_type": "stream",
          "name": "stdout",
          "text": [
            "[[12  5  0  3  0  3  5  8]\n",
            " [11  3  7  9  3  0 14 13]\n",
            " [ 3  5  2  4 14  7  0  4]] \n",
            "\n",
            "[12 14 14]\n"
          ]
        }
      ],
      "source": [
        "#Решение#\n",
        "import numpy as np\n",
        "\n",
        "\n",
        "x = np.array([[12, 5, 0, 3],\n",
        "              [11, 3, 7, 9],\n",
        "              [3, 5, 2, 4]])\n",
        "\n",
        "x = np.concatenate([x, np.random.randint(0, 15, (3, 4))], axis=1)\n",
        "\n",
        "print(x, \"\\n\")\n",
        "print(x.max(axis=1))\n"
      ]
    },
    {
      "cell_type": "markdown",
      "source": [
        "Лучше будет переписать без цикла"
      ],
      "metadata": {
        "id": "Hr_la_Q0Y68J"
      },
      "id": "Hr_la_Q0Y68J"
    },
    {
      "cell_type": "markdown",
      "source": [
        "**+1 балл**\n",
        "\n",
        "Очень рекомендую переписать задание с теми замечаниями, что я оставил. Если всё поправите, то поставлю недостающий балл"
      ],
      "metadata": {
        "id": "u-vE9YiHZAWx"
      },
      "id": "u-vE9YiHZAWx"
    },
    {
      "cell_type": "markdown",
      "id": "390f61e2",
      "metadata": {
        "tags": [],
        "id": "390f61e2"
      },
      "source": [
        "# Библиотека Pandas"
      ]
    },
    {
      "cell_type": "markdown",
      "id": "9cce64ab",
      "metadata": {
        "id": "9cce64ab"
      },
      "source": [
        "**Pandas** - библиотека на языке Python для обработки и анализа данных. Pandas является надстройкой над библиотекой NumPy, обеспечивающей эффективную реализацию класса DataFrame. Объекты **DataFrame** - многомерные массивы с метками для строк и столбцов, а также зачастую с неоднородным типом данных и/или пропущенными данными."
      ]
    },
    {
      "cell_type": "code",
      "execution_count": null,
      "id": "f2642ccc",
      "metadata": {
        "ExecuteTime": {
          "end_time": "2023-09-06T12:58:53.139616Z",
          "start_time": "2023-09-06T12:58:53.135625Z"
        },
        "id": "f2642ccc"
      },
      "outputs": [],
      "source": [
        "#импорт библиотеки\n",
        "\n",
        "import pandas as pd"
      ]
    },
    {
      "cell_type": "code",
      "execution_count": null,
      "id": "f9d94038",
      "metadata": {
        "ExecuteTime": {
          "end_time": "2023-09-06T13:08:40.861972Z",
          "start_time": "2023-09-06T13:08:40.813071Z"
        },
        "colab": {
          "base_uri": "https://localhost:8080/",
          "height": 423
        },
        "id": "f9d94038",
        "outputId": "64c60833-fc27-4d15-cd1d-96c448213b61"
      },
      "outputs": [
        {
          "output_type": "execute_result",
          "data": {
            "text/plain": [
              "     Survived  Pclass                                               Name  \\\n",
              "0           0       3                             Mr. Owen Harris Braund   \n",
              "1           1       1  Mrs. John Bradley (Florence Briggs Thayer) Cum...   \n",
              "2           1       3                              Miss. Laina Heikkinen   \n",
              "3           1       1        Mrs. Jacques Heath (Lily May Peel) Futrelle   \n",
              "4           0       3                            Mr. William Henry Allen   \n",
              "..        ...     ...                                                ...   \n",
              "882         0       2                               Rev. Juozas Montvila   \n",
              "883         1       1                        Miss. Margaret Edith Graham   \n",
              "884         0       3                     Miss. Catherine Helen Johnston   \n",
              "885         1       1                               Mr. Karl Howell Behr   \n",
              "886         0       3                                 Mr. Patrick Dooley   \n",
              "\n",
              "        Sex   Age  Siblings/Spouses Aboard  Parents/Children Aboard     Fare  \n",
              "0      male  22.0                        1                        0   7.2500  \n",
              "1    female  38.0                        1                        0  71.2833  \n",
              "2    female  26.0                        0                        0   7.9250  \n",
              "3    female  35.0                        1                        0  53.1000  \n",
              "4      male  35.0                        0                        0   8.0500  \n",
              "..      ...   ...                      ...                      ...      ...  \n",
              "882    male  27.0                        0                        0  13.0000  \n",
              "883  female  19.0                        0                        0  30.0000  \n",
              "884  female   7.0                        1                        2  23.4500  \n",
              "885    male  26.0                        0                        0  30.0000  \n",
              "886    male  32.0                        0                        0   7.7500  \n",
              "\n",
              "[887 rows x 8 columns]"
            ],
            "text/html": [
              "\n",
              "  <div id=\"df-b0306d91-26d1-47f5-a2e5-da0d49507cfd\" class=\"colab-df-container\">\n",
              "    <div>\n",
              "<style scoped>\n",
              "    .dataframe tbody tr th:only-of-type {\n",
              "        vertical-align: middle;\n",
              "    }\n",
              "\n",
              "    .dataframe tbody tr th {\n",
              "        vertical-align: top;\n",
              "    }\n",
              "\n",
              "    .dataframe thead th {\n",
              "        text-align: right;\n",
              "    }\n",
              "</style>\n",
              "<table border=\"1\" class=\"dataframe\">\n",
              "  <thead>\n",
              "    <tr style=\"text-align: right;\">\n",
              "      <th></th>\n",
              "      <th>Survived</th>\n",
              "      <th>Pclass</th>\n",
              "      <th>Name</th>\n",
              "      <th>Sex</th>\n",
              "      <th>Age</th>\n",
              "      <th>Siblings/Spouses Aboard</th>\n",
              "      <th>Parents/Children Aboard</th>\n",
              "      <th>Fare</th>\n",
              "    </tr>\n",
              "  </thead>\n",
              "  <tbody>\n",
              "    <tr>\n",
              "      <th>0</th>\n",
              "      <td>0</td>\n",
              "      <td>3</td>\n",
              "      <td>Mr. Owen Harris Braund</td>\n",
              "      <td>male</td>\n",
              "      <td>22.0</td>\n",
              "      <td>1</td>\n",
              "      <td>0</td>\n",
              "      <td>7.2500</td>\n",
              "    </tr>\n",
              "    <tr>\n",
              "      <th>1</th>\n",
              "      <td>1</td>\n",
              "      <td>1</td>\n",
              "      <td>Mrs. John Bradley (Florence Briggs Thayer) Cum...</td>\n",
              "      <td>female</td>\n",
              "      <td>38.0</td>\n",
              "      <td>1</td>\n",
              "      <td>0</td>\n",
              "      <td>71.2833</td>\n",
              "    </tr>\n",
              "    <tr>\n",
              "      <th>2</th>\n",
              "      <td>1</td>\n",
              "      <td>3</td>\n",
              "      <td>Miss. Laina Heikkinen</td>\n",
              "      <td>female</td>\n",
              "      <td>26.0</td>\n",
              "      <td>0</td>\n",
              "      <td>0</td>\n",
              "      <td>7.9250</td>\n",
              "    </tr>\n",
              "    <tr>\n",
              "      <th>3</th>\n",
              "      <td>1</td>\n",
              "      <td>1</td>\n",
              "      <td>Mrs. Jacques Heath (Lily May Peel) Futrelle</td>\n",
              "      <td>female</td>\n",
              "      <td>35.0</td>\n",
              "      <td>1</td>\n",
              "      <td>0</td>\n",
              "      <td>53.1000</td>\n",
              "    </tr>\n",
              "    <tr>\n",
              "      <th>4</th>\n",
              "      <td>0</td>\n",
              "      <td>3</td>\n",
              "      <td>Mr. William Henry Allen</td>\n",
              "      <td>male</td>\n",
              "      <td>35.0</td>\n",
              "      <td>0</td>\n",
              "      <td>0</td>\n",
              "      <td>8.0500</td>\n",
              "    </tr>\n",
              "    <tr>\n",
              "      <th>...</th>\n",
              "      <td>...</td>\n",
              "      <td>...</td>\n",
              "      <td>...</td>\n",
              "      <td>...</td>\n",
              "      <td>...</td>\n",
              "      <td>...</td>\n",
              "      <td>...</td>\n",
              "      <td>...</td>\n",
              "    </tr>\n",
              "    <tr>\n",
              "      <th>882</th>\n",
              "      <td>0</td>\n",
              "      <td>2</td>\n",
              "      <td>Rev. Juozas Montvila</td>\n",
              "      <td>male</td>\n",
              "      <td>27.0</td>\n",
              "      <td>0</td>\n",
              "      <td>0</td>\n",
              "      <td>13.0000</td>\n",
              "    </tr>\n",
              "    <tr>\n",
              "      <th>883</th>\n",
              "      <td>1</td>\n",
              "      <td>1</td>\n",
              "      <td>Miss. Margaret Edith Graham</td>\n",
              "      <td>female</td>\n",
              "      <td>19.0</td>\n",
              "      <td>0</td>\n",
              "      <td>0</td>\n",
              "      <td>30.0000</td>\n",
              "    </tr>\n",
              "    <tr>\n",
              "      <th>884</th>\n",
              "      <td>0</td>\n",
              "      <td>3</td>\n",
              "      <td>Miss. Catherine Helen Johnston</td>\n",
              "      <td>female</td>\n",
              "      <td>7.0</td>\n",
              "      <td>1</td>\n",
              "      <td>2</td>\n",
              "      <td>23.4500</td>\n",
              "    </tr>\n",
              "    <tr>\n",
              "      <th>885</th>\n",
              "      <td>1</td>\n",
              "      <td>1</td>\n",
              "      <td>Mr. Karl Howell Behr</td>\n",
              "      <td>male</td>\n",
              "      <td>26.0</td>\n",
              "      <td>0</td>\n",
              "      <td>0</td>\n",
              "      <td>30.0000</td>\n",
              "    </tr>\n",
              "    <tr>\n",
              "      <th>886</th>\n",
              "      <td>0</td>\n",
              "      <td>3</td>\n",
              "      <td>Mr. Patrick Dooley</td>\n",
              "      <td>male</td>\n",
              "      <td>32.0</td>\n",
              "      <td>0</td>\n",
              "      <td>0</td>\n",
              "      <td>7.7500</td>\n",
              "    </tr>\n",
              "  </tbody>\n",
              "</table>\n",
              "<p>887 rows × 8 columns</p>\n",
              "</div>\n",
              "    <div class=\"colab-df-buttons\">\n",
              "\n",
              "  <div class=\"colab-df-container\">\n",
              "    <button class=\"colab-df-convert\" onclick=\"convertToInteractive('df-b0306d91-26d1-47f5-a2e5-da0d49507cfd')\"\n",
              "            title=\"Convert this dataframe to an interactive table.\"\n",
              "            style=\"display:none;\">\n",
              "\n",
              "  <svg xmlns=\"http://www.w3.org/2000/svg\" height=\"24px\" viewBox=\"0 -960 960 960\">\n",
              "    <path d=\"M120-120v-720h720v720H120Zm60-500h600v-160H180v160Zm220 220h160v-160H400v160Zm0 220h160v-160H400v160ZM180-400h160v-160H180v160Zm440 0h160v-160H620v160ZM180-180h160v-160H180v160Zm440 0h160v-160H620v160Z\"/>\n",
              "  </svg>\n",
              "    </button>\n",
              "\n",
              "  <style>\n",
              "    .colab-df-container {\n",
              "      display:flex;\n",
              "      gap: 12px;\n",
              "    }\n",
              "\n",
              "    .colab-df-convert {\n",
              "      background-color: #E8F0FE;\n",
              "      border: none;\n",
              "      border-radius: 50%;\n",
              "      cursor: pointer;\n",
              "      display: none;\n",
              "      fill: #1967D2;\n",
              "      height: 32px;\n",
              "      padding: 0 0 0 0;\n",
              "      width: 32px;\n",
              "    }\n",
              "\n",
              "    .colab-df-convert:hover {\n",
              "      background-color: #E2EBFA;\n",
              "      box-shadow: 0px 1px 2px rgba(60, 64, 67, 0.3), 0px 1px 3px 1px rgba(60, 64, 67, 0.15);\n",
              "      fill: #174EA6;\n",
              "    }\n",
              "\n",
              "    .colab-df-buttons div {\n",
              "      margin-bottom: 4px;\n",
              "    }\n",
              "\n",
              "    [theme=dark] .colab-df-convert {\n",
              "      background-color: #3B4455;\n",
              "      fill: #D2E3FC;\n",
              "    }\n",
              "\n",
              "    [theme=dark] .colab-df-convert:hover {\n",
              "      background-color: #434B5C;\n",
              "      box-shadow: 0px 1px 3px 1px rgba(0, 0, 0, 0.15);\n",
              "      filter: drop-shadow(0px 1px 2px rgba(0, 0, 0, 0.3));\n",
              "      fill: #FFFFFF;\n",
              "    }\n",
              "  </style>\n",
              "\n",
              "    <script>\n",
              "      const buttonEl =\n",
              "        document.querySelector('#df-b0306d91-26d1-47f5-a2e5-da0d49507cfd button.colab-df-convert');\n",
              "      buttonEl.style.display =\n",
              "        google.colab.kernel.accessAllowed ? 'block' : 'none';\n",
              "\n",
              "      async function convertToInteractive(key) {\n",
              "        const element = document.querySelector('#df-b0306d91-26d1-47f5-a2e5-da0d49507cfd');\n",
              "        const dataTable =\n",
              "          await google.colab.kernel.invokeFunction('convertToInteractive',\n",
              "                                                    [key], {});\n",
              "        if (!dataTable) return;\n",
              "\n",
              "        const docLinkHtml = 'Like what you see? Visit the ' +\n",
              "          '<a target=\"_blank\" href=https://colab.research.google.com/notebooks/data_table.ipynb>data table notebook</a>'\n",
              "          + ' to learn more about interactive tables.';\n",
              "        element.innerHTML = '';\n",
              "        dataTable['output_type'] = 'display_data';\n",
              "        await google.colab.output.renderOutput(dataTable, element);\n",
              "        const docLink = document.createElement('div');\n",
              "        docLink.innerHTML = docLinkHtml;\n",
              "        element.appendChild(docLink);\n",
              "      }\n",
              "    </script>\n",
              "  </div>\n",
              "\n",
              "\n",
              "<div id=\"df-6b296c10-8499-4333-ae4b-9244b794b0a6\">\n",
              "  <button class=\"colab-df-quickchart\" onclick=\"quickchart('df-6b296c10-8499-4333-ae4b-9244b794b0a6')\"\n",
              "            title=\"Suggest charts.\"\n",
              "            style=\"display:none;\">\n",
              "\n",
              "<svg xmlns=\"http://www.w3.org/2000/svg\" height=\"24px\"viewBox=\"0 0 24 24\"\n",
              "     width=\"24px\">\n",
              "    <g>\n",
              "        <path d=\"M19 3H5c-1.1 0-2 .9-2 2v14c0 1.1.9 2 2 2h14c1.1 0 2-.9 2-2V5c0-1.1-.9-2-2-2zM9 17H7v-7h2v7zm4 0h-2V7h2v10zm4 0h-2v-4h2v4z\"/>\n",
              "    </g>\n",
              "</svg>\n",
              "  </button>\n",
              "\n",
              "<style>\n",
              "  .colab-df-quickchart {\n",
              "      --bg-color: #E8F0FE;\n",
              "      --fill-color: #1967D2;\n",
              "      --hover-bg-color: #E2EBFA;\n",
              "      --hover-fill-color: #174EA6;\n",
              "      --disabled-fill-color: #AAA;\n",
              "      --disabled-bg-color: #DDD;\n",
              "  }\n",
              "\n",
              "  [theme=dark] .colab-df-quickchart {\n",
              "      --bg-color: #3B4455;\n",
              "      --fill-color: #D2E3FC;\n",
              "      --hover-bg-color: #434B5C;\n",
              "      --hover-fill-color: #FFFFFF;\n",
              "      --disabled-bg-color: #3B4455;\n",
              "      --disabled-fill-color: #666;\n",
              "  }\n",
              "\n",
              "  .colab-df-quickchart {\n",
              "    background-color: var(--bg-color);\n",
              "    border: none;\n",
              "    border-radius: 50%;\n",
              "    cursor: pointer;\n",
              "    display: none;\n",
              "    fill: var(--fill-color);\n",
              "    height: 32px;\n",
              "    padding: 0;\n",
              "    width: 32px;\n",
              "  }\n",
              "\n",
              "  .colab-df-quickchart:hover {\n",
              "    background-color: var(--hover-bg-color);\n",
              "    box-shadow: 0 1px 2px rgba(60, 64, 67, 0.3), 0 1px 3px 1px rgba(60, 64, 67, 0.15);\n",
              "    fill: var(--button-hover-fill-color);\n",
              "  }\n",
              "\n",
              "  .colab-df-quickchart-complete:disabled,\n",
              "  .colab-df-quickchart-complete:disabled:hover {\n",
              "    background-color: var(--disabled-bg-color);\n",
              "    fill: var(--disabled-fill-color);\n",
              "    box-shadow: none;\n",
              "  }\n",
              "\n",
              "  .colab-df-spinner {\n",
              "    border: 2px solid var(--fill-color);\n",
              "    border-color: transparent;\n",
              "    border-bottom-color: var(--fill-color);\n",
              "    animation:\n",
              "      spin 1s steps(1) infinite;\n",
              "  }\n",
              "\n",
              "  @keyframes spin {\n",
              "    0% {\n",
              "      border-color: transparent;\n",
              "      border-bottom-color: var(--fill-color);\n",
              "      border-left-color: var(--fill-color);\n",
              "    }\n",
              "    20% {\n",
              "      border-color: transparent;\n",
              "      border-left-color: var(--fill-color);\n",
              "      border-top-color: var(--fill-color);\n",
              "    }\n",
              "    30% {\n",
              "      border-color: transparent;\n",
              "      border-left-color: var(--fill-color);\n",
              "      border-top-color: var(--fill-color);\n",
              "      border-right-color: var(--fill-color);\n",
              "    }\n",
              "    40% {\n",
              "      border-color: transparent;\n",
              "      border-right-color: var(--fill-color);\n",
              "      border-top-color: var(--fill-color);\n",
              "    }\n",
              "    60% {\n",
              "      border-color: transparent;\n",
              "      border-right-color: var(--fill-color);\n",
              "    }\n",
              "    80% {\n",
              "      border-color: transparent;\n",
              "      border-right-color: var(--fill-color);\n",
              "      border-bottom-color: var(--fill-color);\n",
              "    }\n",
              "    90% {\n",
              "      border-color: transparent;\n",
              "      border-bottom-color: var(--fill-color);\n",
              "    }\n",
              "  }\n",
              "</style>\n",
              "\n",
              "  <script>\n",
              "    async function quickchart(key) {\n",
              "      const quickchartButtonEl =\n",
              "        document.querySelector('#' + key + ' button');\n",
              "      quickchartButtonEl.disabled = true;  // To prevent multiple clicks.\n",
              "      quickchartButtonEl.classList.add('colab-df-spinner');\n",
              "      try {\n",
              "        const charts = await google.colab.kernel.invokeFunction(\n",
              "            'suggestCharts', [key], {});\n",
              "      } catch (error) {\n",
              "        console.error('Error during call to suggestCharts:', error);\n",
              "      }\n",
              "      quickchartButtonEl.classList.remove('colab-df-spinner');\n",
              "      quickchartButtonEl.classList.add('colab-df-quickchart-complete');\n",
              "    }\n",
              "    (() => {\n",
              "      let quickchartButtonEl =\n",
              "        document.querySelector('#df-6b296c10-8499-4333-ae4b-9244b794b0a6 button');\n",
              "      quickchartButtonEl.style.display =\n",
              "        google.colab.kernel.accessAllowed ? 'block' : 'none';\n",
              "    })();\n",
              "  </script>\n",
              "</div>\n",
              "    </div>\n",
              "  </div>\n"
            ]
          },
          "metadata": {},
          "execution_count": 94
        }
      ],
      "source": [
        "path = \"titanic.csv\"\n",
        "dataset = pd.read_csv(path)\n",
        "\n",
        "dataset"
      ]
    },
    {
      "cell_type": "markdown",
      "id": "4e91291d",
      "metadata": {
        "ExecuteTime": {
          "end_time": "2023-09-06T13:09:01.608382Z",
          "start_time": "2023-09-06T13:09:01.595386Z"
        },
        "id": "4e91291d"
      },
      "source": [
        "## Задание 1.3.1"
      ]
    },
    {
      "cell_type": "markdown",
      "id": "0623e637",
      "metadata": {
        "id": "0623e637"
      },
      "source": [
        "(**2 балла**)\n",
        "1. Вывести все записи, содержащие данные о пассажирах женского пола и в возрасте старше 20 лет"
      ]
    },
    {
      "cell_type": "code",
      "execution_count": 43,
      "id": "6ad221c8",
      "metadata": {
        "ExecuteTime": {
          "end_time": "2023-09-06T13:14:32.268891Z",
          "start_time": "2023-09-06T13:14:32.232102Z"
        },
        "colab": {
          "base_uri": "https://localhost:8080/",
          "height": 423
        },
        "id": "6ad221c8",
        "outputId": "3371f2dc-a58b-4a50-ebc5-d66332e29b10"
      },
      "outputs": [
        {
          "output_type": "execute_result",
          "data": {
            "text/plain": [
              "     Survived  Pclass                                               Name  \\\n",
              "1           1       1  Mrs. John Bradley (Florence Briggs Thayer) Cum...   \n",
              "2           1       3                              Miss. Laina Heikkinen   \n",
              "3           1       1        Mrs. Jacques Heath (Lily May Peel) Futrelle   \n",
              "8           1       3   Mrs. Oscar W (Elisabeth Vilhelmina Berg) Johnson   \n",
              "11          1       1                            Miss. Elizabeth Bonnell   \n",
              "..        ...     ...                                                ...   \n",
              "870         1       2               Mrs. Samuel (Hannah Wizosky) Abelson   \n",
              "875         1       1       Mrs. Thomas Jr (Lily Alexenia Wilson) Potter   \n",
              "876         1       2        Mrs. William (Imanita Parrish Hall) Shelley   \n",
              "878         0       3                        Miss. Gerda Ulrika Dahlberg   \n",
              "881         0       3                Mrs. William (Margaret Norton) Rice   \n",
              "\n",
              "        Sex   Age  Siblings/Spouses Aboard  Parents/Children Aboard     Fare  \n",
              "1    female  38.0                        1                        0  71.2833  \n",
              "2    female  26.0                        0                        0   7.9250  \n",
              "3    female  35.0                        1                        0  53.1000  \n",
              "8    female  27.0                        0                        2  11.1333  \n",
              "11   female  58.0                        0                        0  26.5500  \n",
              "..      ...   ...                      ...                      ...      ...  \n",
              "870  female  28.0                        1                        0  24.0000  \n",
              "875  female  56.0                        0                        1  83.1583  \n",
              "876  female  25.0                        0                        1  26.0000  \n",
              "878  female  22.0                        0                        0  10.5167  \n",
              "881  female  39.0                        0                        5  29.1250  \n",
              "\n",
              "[222 rows x 8 columns]"
            ],
            "text/html": [
              "\n",
              "  <div id=\"df-c5b6eb48-f909-4b40-b850-826b82ae9f1b\" class=\"colab-df-container\">\n",
              "    <div>\n",
              "<style scoped>\n",
              "    .dataframe tbody tr th:only-of-type {\n",
              "        vertical-align: middle;\n",
              "    }\n",
              "\n",
              "    .dataframe tbody tr th {\n",
              "        vertical-align: top;\n",
              "    }\n",
              "\n",
              "    .dataframe thead th {\n",
              "        text-align: right;\n",
              "    }\n",
              "</style>\n",
              "<table border=\"1\" class=\"dataframe\">\n",
              "  <thead>\n",
              "    <tr style=\"text-align: right;\">\n",
              "      <th></th>\n",
              "      <th>Survived</th>\n",
              "      <th>Pclass</th>\n",
              "      <th>Name</th>\n",
              "      <th>Sex</th>\n",
              "      <th>Age</th>\n",
              "      <th>Siblings/Spouses Aboard</th>\n",
              "      <th>Parents/Children Aboard</th>\n",
              "      <th>Fare</th>\n",
              "    </tr>\n",
              "  </thead>\n",
              "  <tbody>\n",
              "    <tr>\n",
              "      <th>1</th>\n",
              "      <td>1</td>\n",
              "      <td>1</td>\n",
              "      <td>Mrs. John Bradley (Florence Briggs Thayer) Cum...</td>\n",
              "      <td>female</td>\n",
              "      <td>38.0</td>\n",
              "      <td>1</td>\n",
              "      <td>0</td>\n",
              "      <td>71.2833</td>\n",
              "    </tr>\n",
              "    <tr>\n",
              "      <th>2</th>\n",
              "      <td>1</td>\n",
              "      <td>3</td>\n",
              "      <td>Miss. Laina Heikkinen</td>\n",
              "      <td>female</td>\n",
              "      <td>26.0</td>\n",
              "      <td>0</td>\n",
              "      <td>0</td>\n",
              "      <td>7.9250</td>\n",
              "    </tr>\n",
              "    <tr>\n",
              "      <th>3</th>\n",
              "      <td>1</td>\n",
              "      <td>1</td>\n",
              "      <td>Mrs. Jacques Heath (Lily May Peel) Futrelle</td>\n",
              "      <td>female</td>\n",
              "      <td>35.0</td>\n",
              "      <td>1</td>\n",
              "      <td>0</td>\n",
              "      <td>53.1000</td>\n",
              "    </tr>\n",
              "    <tr>\n",
              "      <th>8</th>\n",
              "      <td>1</td>\n",
              "      <td>3</td>\n",
              "      <td>Mrs. Oscar W (Elisabeth Vilhelmina Berg) Johnson</td>\n",
              "      <td>female</td>\n",
              "      <td>27.0</td>\n",
              "      <td>0</td>\n",
              "      <td>2</td>\n",
              "      <td>11.1333</td>\n",
              "    </tr>\n",
              "    <tr>\n",
              "      <th>11</th>\n",
              "      <td>1</td>\n",
              "      <td>1</td>\n",
              "      <td>Miss. Elizabeth Bonnell</td>\n",
              "      <td>female</td>\n",
              "      <td>58.0</td>\n",
              "      <td>0</td>\n",
              "      <td>0</td>\n",
              "      <td>26.5500</td>\n",
              "    </tr>\n",
              "    <tr>\n",
              "      <th>...</th>\n",
              "      <td>...</td>\n",
              "      <td>...</td>\n",
              "      <td>...</td>\n",
              "      <td>...</td>\n",
              "      <td>...</td>\n",
              "      <td>...</td>\n",
              "      <td>...</td>\n",
              "      <td>...</td>\n",
              "    </tr>\n",
              "    <tr>\n",
              "      <th>870</th>\n",
              "      <td>1</td>\n",
              "      <td>2</td>\n",
              "      <td>Mrs. Samuel (Hannah Wizosky) Abelson</td>\n",
              "      <td>female</td>\n",
              "      <td>28.0</td>\n",
              "      <td>1</td>\n",
              "      <td>0</td>\n",
              "      <td>24.0000</td>\n",
              "    </tr>\n",
              "    <tr>\n",
              "      <th>875</th>\n",
              "      <td>1</td>\n",
              "      <td>1</td>\n",
              "      <td>Mrs. Thomas Jr (Lily Alexenia Wilson) Potter</td>\n",
              "      <td>female</td>\n",
              "      <td>56.0</td>\n",
              "      <td>0</td>\n",
              "      <td>1</td>\n",
              "      <td>83.1583</td>\n",
              "    </tr>\n",
              "    <tr>\n",
              "      <th>876</th>\n",
              "      <td>1</td>\n",
              "      <td>2</td>\n",
              "      <td>Mrs. William (Imanita Parrish Hall) Shelley</td>\n",
              "      <td>female</td>\n",
              "      <td>25.0</td>\n",
              "      <td>0</td>\n",
              "      <td>1</td>\n",
              "      <td>26.0000</td>\n",
              "    </tr>\n",
              "    <tr>\n",
              "      <th>878</th>\n",
              "      <td>0</td>\n",
              "      <td>3</td>\n",
              "      <td>Miss. Gerda Ulrika Dahlberg</td>\n",
              "      <td>female</td>\n",
              "      <td>22.0</td>\n",
              "      <td>0</td>\n",
              "      <td>0</td>\n",
              "      <td>10.5167</td>\n",
              "    </tr>\n",
              "    <tr>\n",
              "      <th>881</th>\n",
              "      <td>0</td>\n",
              "      <td>3</td>\n",
              "      <td>Mrs. William (Margaret Norton) Rice</td>\n",
              "      <td>female</td>\n",
              "      <td>39.0</td>\n",
              "      <td>0</td>\n",
              "      <td>5</td>\n",
              "      <td>29.1250</td>\n",
              "    </tr>\n",
              "  </tbody>\n",
              "</table>\n",
              "<p>222 rows × 8 columns</p>\n",
              "</div>\n",
              "    <div class=\"colab-df-buttons\">\n",
              "\n",
              "  <div class=\"colab-df-container\">\n",
              "    <button class=\"colab-df-convert\" onclick=\"convertToInteractive('df-c5b6eb48-f909-4b40-b850-826b82ae9f1b')\"\n",
              "            title=\"Convert this dataframe to an interactive table.\"\n",
              "            style=\"display:none;\">\n",
              "\n",
              "  <svg xmlns=\"http://www.w3.org/2000/svg\" height=\"24px\" viewBox=\"0 -960 960 960\">\n",
              "    <path d=\"M120-120v-720h720v720H120Zm60-500h600v-160H180v160Zm220 220h160v-160H400v160Zm0 220h160v-160H400v160ZM180-400h160v-160H180v160Zm440 0h160v-160H620v160ZM180-180h160v-160H180v160Zm440 0h160v-160H620v160Z\"/>\n",
              "  </svg>\n",
              "    </button>\n",
              "\n",
              "  <style>\n",
              "    .colab-df-container {\n",
              "      display:flex;\n",
              "      gap: 12px;\n",
              "    }\n",
              "\n",
              "    .colab-df-convert {\n",
              "      background-color: #E8F0FE;\n",
              "      border: none;\n",
              "      border-radius: 50%;\n",
              "      cursor: pointer;\n",
              "      display: none;\n",
              "      fill: #1967D2;\n",
              "      height: 32px;\n",
              "      padding: 0 0 0 0;\n",
              "      width: 32px;\n",
              "    }\n",
              "\n",
              "    .colab-df-convert:hover {\n",
              "      background-color: #E2EBFA;\n",
              "      box-shadow: 0px 1px 2px rgba(60, 64, 67, 0.3), 0px 1px 3px 1px rgba(60, 64, 67, 0.15);\n",
              "      fill: #174EA6;\n",
              "    }\n",
              "\n",
              "    .colab-df-buttons div {\n",
              "      margin-bottom: 4px;\n",
              "    }\n",
              "\n",
              "    [theme=dark] .colab-df-convert {\n",
              "      background-color: #3B4455;\n",
              "      fill: #D2E3FC;\n",
              "    }\n",
              "\n",
              "    [theme=dark] .colab-df-convert:hover {\n",
              "      background-color: #434B5C;\n",
              "      box-shadow: 0px 1px 3px 1px rgba(0, 0, 0, 0.15);\n",
              "      filter: drop-shadow(0px 1px 2px rgba(0, 0, 0, 0.3));\n",
              "      fill: #FFFFFF;\n",
              "    }\n",
              "  </style>\n",
              "\n",
              "    <script>\n",
              "      const buttonEl =\n",
              "        document.querySelector('#df-c5b6eb48-f909-4b40-b850-826b82ae9f1b button.colab-df-convert');\n",
              "      buttonEl.style.display =\n",
              "        google.colab.kernel.accessAllowed ? 'block' : 'none';\n",
              "\n",
              "      async function convertToInteractive(key) {\n",
              "        const element = document.querySelector('#df-c5b6eb48-f909-4b40-b850-826b82ae9f1b');\n",
              "        const dataTable =\n",
              "          await google.colab.kernel.invokeFunction('convertToInteractive',\n",
              "                                                    [key], {});\n",
              "        if (!dataTable) return;\n",
              "\n",
              "        const docLinkHtml = 'Like what you see? Visit the ' +\n",
              "          '<a target=\"_blank\" href=https://colab.research.google.com/notebooks/data_table.ipynb>data table notebook</a>'\n",
              "          + ' to learn more about interactive tables.';\n",
              "        element.innerHTML = '';\n",
              "        dataTable['output_type'] = 'display_data';\n",
              "        await google.colab.output.renderOutput(dataTable, element);\n",
              "        const docLink = document.createElement('div');\n",
              "        docLink.innerHTML = docLinkHtml;\n",
              "        element.appendChild(docLink);\n",
              "      }\n",
              "    </script>\n",
              "  </div>\n",
              "\n",
              "\n",
              "<div id=\"df-55e0a440-908c-4d6d-94f6-ae4aaf43a579\">\n",
              "  <button class=\"colab-df-quickchart\" onclick=\"quickchart('df-55e0a440-908c-4d6d-94f6-ae4aaf43a579')\"\n",
              "            title=\"Suggest charts\"\n",
              "            style=\"display:none;\">\n",
              "\n",
              "<svg xmlns=\"http://www.w3.org/2000/svg\" height=\"24px\"viewBox=\"0 0 24 24\"\n",
              "     width=\"24px\">\n",
              "    <g>\n",
              "        <path d=\"M19 3H5c-1.1 0-2 .9-2 2v14c0 1.1.9 2 2 2h14c1.1 0 2-.9 2-2V5c0-1.1-.9-2-2-2zM9 17H7v-7h2v7zm4 0h-2V7h2v10zm4 0h-2v-4h2v4z\"/>\n",
              "    </g>\n",
              "</svg>\n",
              "  </button>\n",
              "\n",
              "<style>\n",
              "  .colab-df-quickchart {\n",
              "      --bg-color: #E8F0FE;\n",
              "      --fill-color: #1967D2;\n",
              "      --hover-bg-color: #E2EBFA;\n",
              "      --hover-fill-color: #174EA6;\n",
              "      --disabled-fill-color: #AAA;\n",
              "      --disabled-bg-color: #DDD;\n",
              "  }\n",
              "\n",
              "  [theme=dark] .colab-df-quickchart {\n",
              "      --bg-color: #3B4455;\n",
              "      --fill-color: #D2E3FC;\n",
              "      --hover-bg-color: #434B5C;\n",
              "      --hover-fill-color: #FFFFFF;\n",
              "      --disabled-bg-color: #3B4455;\n",
              "      --disabled-fill-color: #666;\n",
              "  }\n",
              "\n",
              "  .colab-df-quickchart {\n",
              "    background-color: var(--bg-color);\n",
              "    border: none;\n",
              "    border-radius: 50%;\n",
              "    cursor: pointer;\n",
              "    display: none;\n",
              "    fill: var(--fill-color);\n",
              "    height: 32px;\n",
              "    padding: 0;\n",
              "    width: 32px;\n",
              "  }\n",
              "\n",
              "  .colab-df-quickchart:hover {\n",
              "    background-color: var(--hover-bg-color);\n",
              "    box-shadow: 0 1px 2px rgba(60, 64, 67, 0.3), 0 1px 3px 1px rgba(60, 64, 67, 0.15);\n",
              "    fill: var(--button-hover-fill-color);\n",
              "  }\n",
              "\n",
              "  .colab-df-quickchart-complete:disabled,\n",
              "  .colab-df-quickchart-complete:disabled:hover {\n",
              "    background-color: var(--disabled-bg-color);\n",
              "    fill: var(--disabled-fill-color);\n",
              "    box-shadow: none;\n",
              "  }\n",
              "\n",
              "  .colab-df-spinner {\n",
              "    border: 2px solid var(--fill-color);\n",
              "    border-color: transparent;\n",
              "    border-bottom-color: var(--fill-color);\n",
              "    animation:\n",
              "      spin 1s steps(1) infinite;\n",
              "  }\n",
              "\n",
              "  @keyframes spin {\n",
              "    0% {\n",
              "      border-color: transparent;\n",
              "      border-bottom-color: var(--fill-color);\n",
              "      border-left-color: var(--fill-color);\n",
              "    }\n",
              "    20% {\n",
              "      border-color: transparent;\n",
              "      border-left-color: var(--fill-color);\n",
              "      border-top-color: var(--fill-color);\n",
              "    }\n",
              "    30% {\n",
              "      border-color: transparent;\n",
              "      border-left-color: var(--fill-color);\n",
              "      border-top-color: var(--fill-color);\n",
              "      border-right-color: var(--fill-color);\n",
              "    }\n",
              "    40% {\n",
              "      border-color: transparent;\n",
              "      border-right-color: var(--fill-color);\n",
              "      border-top-color: var(--fill-color);\n",
              "    }\n",
              "    60% {\n",
              "      border-color: transparent;\n",
              "      border-right-color: var(--fill-color);\n",
              "    }\n",
              "    80% {\n",
              "      border-color: transparent;\n",
              "      border-right-color: var(--fill-color);\n",
              "      border-bottom-color: var(--fill-color);\n",
              "    }\n",
              "    90% {\n",
              "      border-color: transparent;\n",
              "      border-bottom-color: var(--fill-color);\n",
              "    }\n",
              "  }\n",
              "</style>\n",
              "\n",
              "  <script>\n",
              "    async function quickchart(key) {\n",
              "      const quickchartButtonEl =\n",
              "        document.querySelector('#' + key + ' button');\n",
              "      quickchartButtonEl.disabled = true;  // To prevent multiple clicks.\n",
              "      quickchartButtonEl.classList.add('colab-df-spinner');\n",
              "      try {\n",
              "        const charts = await google.colab.kernel.invokeFunction(\n",
              "            'suggestCharts', [key], {});\n",
              "      } catch (error) {\n",
              "        console.error('Error during call to suggestCharts:', error);\n",
              "      }\n",
              "      quickchartButtonEl.classList.remove('colab-df-spinner');\n",
              "      quickchartButtonEl.classList.add('colab-df-quickchart-complete');\n",
              "    }\n",
              "    (() => {\n",
              "      let quickchartButtonEl =\n",
              "        document.querySelector('#df-55e0a440-908c-4d6d-94f6-ae4aaf43a579 button');\n",
              "      quickchartButtonEl.style.display =\n",
              "        google.colab.kernel.accessAllowed ? 'block' : 'none';\n",
              "    })();\n",
              "  </script>\n",
              "</div>\n",
              "    </div>\n",
              "  </div>\n"
            ]
          },
          "metadata": {},
          "execution_count": 43
        }
      ],
      "source": [
        "#Решение#\n",
        "import pandas as pd\n",
        "\n",
        "path = \"titanic.csv\"\n",
        "dataset = pd.read_csv(path)\n",
        "\n",
        "dataset[(dataset['Sex'] == 'female') & (dataset['Age'] > 20)]\n"
      ]
    },
    {
      "cell_type": "markdown",
      "id": "798341fa",
      "metadata": {
        "ExecuteTime": {
          "end_time": "2023-09-06T13:18:52.194029Z",
          "start_time": "2023-09-06T13:18:52.187301Z"
        },
        "id": "798341fa"
      },
      "source": [
        "2. Вывести дубликаты по возрасту и классу и отсортировать по этим же значениям по убыванию"
      ]
    },
    {
      "cell_type": "code",
      "execution_count": 44,
      "id": "31da0b39",
      "metadata": {
        "ExecuteTime": {
          "end_time": "2023-09-06T13:24:50.581133Z",
          "start_time": "2023-09-06T13:24:50.538261Z"
        },
        "colab": {
          "base_uri": "https://localhost:8080/",
          "height": 423
        },
        "id": "31da0b39",
        "outputId": "8c22c431-361a-4f39-d1e5-b995c764cacb"
      },
      "outputs": [
        {
          "output_type": "execute_result",
          "data": {
            "text/plain": [
              "     Survived  Pclass                                              Name  \\\n",
              "404         0       3                   Mr. Carl/Charles Peter Widegren   \n",
              "628         0       3                        Mr. Johan Svensson Lundahl   \n",
              "664         0       3                         Mr. Knud Paust Rommetvedt   \n",
              "767         0       3                            Mr. Niels Peder Jensen   \n",
              "589         0       3                         Mr. William James Elsbury   \n",
              "..        ...     ...                                               ...   \n",
              "697         1       1  Mrs. John Jacob (Madeleine Talmadge Force) Astor   \n",
              "547         1       1                        Mr. John Borland Jr Thayer   \n",
              "777         1       1          Mrs. Albert Adrian (Vera Gillespie) Dick   \n",
              "501         1       1                              Miss. Roberta Maioni   \n",
              "849         1       1                          Miss. Mary Conover Lines   \n",
              "\n",
              "        Sex   Age  Siblings/Spouses Aboard  Parents/Children Aboard      Fare  \n",
              "404    male  51.0                        0                        0    7.7500  \n",
              "628    male  51.0                        0                        0    7.0542  \n",
              "664    male  49.0                        0                        0    7.7750  \n",
              "767    male  48.0                        0                        0    7.8542  \n",
              "589    male  47.0                        0                        0    7.2500  \n",
              "..      ...   ...                      ...                      ...       ...  \n",
              "697  female  18.0                        1                        0  227.5250  \n",
              "547    male  17.0                        0                        2  110.8833  \n",
              "777  female  17.0                        1                        0   57.0000  \n",
              "501  female  16.0                        0                        0   86.5000  \n",
              "849  female  16.0                        0                        1   39.4000  \n",
              "\n",
              "[699 rows x 8 columns]"
            ],
            "text/html": [
              "\n",
              "  <div id=\"df-3d2c8256-41e1-4740-8f92-350260cb0e37\" class=\"colab-df-container\">\n",
              "    <div>\n",
              "<style scoped>\n",
              "    .dataframe tbody tr th:only-of-type {\n",
              "        vertical-align: middle;\n",
              "    }\n",
              "\n",
              "    .dataframe tbody tr th {\n",
              "        vertical-align: top;\n",
              "    }\n",
              "\n",
              "    .dataframe thead th {\n",
              "        text-align: right;\n",
              "    }\n",
              "</style>\n",
              "<table border=\"1\" class=\"dataframe\">\n",
              "  <thead>\n",
              "    <tr style=\"text-align: right;\">\n",
              "      <th></th>\n",
              "      <th>Survived</th>\n",
              "      <th>Pclass</th>\n",
              "      <th>Name</th>\n",
              "      <th>Sex</th>\n",
              "      <th>Age</th>\n",
              "      <th>Siblings/Spouses Aboard</th>\n",
              "      <th>Parents/Children Aboard</th>\n",
              "      <th>Fare</th>\n",
              "    </tr>\n",
              "  </thead>\n",
              "  <tbody>\n",
              "    <tr>\n",
              "      <th>404</th>\n",
              "      <td>0</td>\n",
              "      <td>3</td>\n",
              "      <td>Mr. Carl/Charles Peter Widegren</td>\n",
              "      <td>male</td>\n",
              "      <td>51.0</td>\n",
              "      <td>0</td>\n",
              "      <td>0</td>\n",
              "      <td>7.7500</td>\n",
              "    </tr>\n",
              "    <tr>\n",
              "      <th>628</th>\n",
              "      <td>0</td>\n",
              "      <td>3</td>\n",
              "      <td>Mr. Johan Svensson Lundahl</td>\n",
              "      <td>male</td>\n",
              "      <td>51.0</td>\n",
              "      <td>0</td>\n",
              "      <td>0</td>\n",
              "      <td>7.0542</td>\n",
              "    </tr>\n",
              "    <tr>\n",
              "      <th>664</th>\n",
              "      <td>0</td>\n",
              "      <td>3</td>\n",
              "      <td>Mr. Knud Paust Rommetvedt</td>\n",
              "      <td>male</td>\n",
              "      <td>49.0</td>\n",
              "      <td>0</td>\n",
              "      <td>0</td>\n",
              "      <td>7.7750</td>\n",
              "    </tr>\n",
              "    <tr>\n",
              "      <th>767</th>\n",
              "      <td>0</td>\n",
              "      <td>3</td>\n",
              "      <td>Mr. Niels Peder Jensen</td>\n",
              "      <td>male</td>\n",
              "      <td>48.0</td>\n",
              "      <td>0</td>\n",
              "      <td>0</td>\n",
              "      <td>7.8542</td>\n",
              "    </tr>\n",
              "    <tr>\n",
              "      <th>589</th>\n",
              "      <td>0</td>\n",
              "      <td>3</td>\n",
              "      <td>Mr. William James Elsbury</td>\n",
              "      <td>male</td>\n",
              "      <td>47.0</td>\n",
              "      <td>0</td>\n",
              "      <td>0</td>\n",
              "      <td>7.2500</td>\n",
              "    </tr>\n",
              "    <tr>\n",
              "      <th>...</th>\n",
              "      <td>...</td>\n",
              "      <td>...</td>\n",
              "      <td>...</td>\n",
              "      <td>...</td>\n",
              "      <td>...</td>\n",
              "      <td>...</td>\n",
              "      <td>...</td>\n",
              "      <td>...</td>\n",
              "    </tr>\n",
              "    <tr>\n",
              "      <th>697</th>\n",
              "      <td>1</td>\n",
              "      <td>1</td>\n",
              "      <td>Mrs. John Jacob (Madeleine Talmadge Force) Astor</td>\n",
              "      <td>female</td>\n",
              "      <td>18.0</td>\n",
              "      <td>1</td>\n",
              "      <td>0</td>\n",
              "      <td>227.5250</td>\n",
              "    </tr>\n",
              "    <tr>\n",
              "      <th>547</th>\n",
              "      <td>1</td>\n",
              "      <td>1</td>\n",
              "      <td>Mr. John Borland Jr Thayer</td>\n",
              "      <td>male</td>\n",
              "      <td>17.0</td>\n",
              "      <td>0</td>\n",
              "      <td>2</td>\n",
              "      <td>110.8833</td>\n",
              "    </tr>\n",
              "    <tr>\n",
              "      <th>777</th>\n",
              "      <td>1</td>\n",
              "      <td>1</td>\n",
              "      <td>Mrs. Albert Adrian (Vera Gillespie) Dick</td>\n",
              "      <td>female</td>\n",
              "      <td>17.0</td>\n",
              "      <td>1</td>\n",
              "      <td>0</td>\n",
              "      <td>57.0000</td>\n",
              "    </tr>\n",
              "    <tr>\n",
              "      <th>501</th>\n",
              "      <td>1</td>\n",
              "      <td>1</td>\n",
              "      <td>Miss. Roberta Maioni</td>\n",
              "      <td>female</td>\n",
              "      <td>16.0</td>\n",
              "      <td>0</td>\n",
              "      <td>0</td>\n",
              "      <td>86.5000</td>\n",
              "    </tr>\n",
              "    <tr>\n",
              "      <th>849</th>\n",
              "      <td>1</td>\n",
              "      <td>1</td>\n",
              "      <td>Miss. Mary Conover Lines</td>\n",
              "      <td>female</td>\n",
              "      <td>16.0</td>\n",
              "      <td>0</td>\n",
              "      <td>1</td>\n",
              "      <td>39.4000</td>\n",
              "    </tr>\n",
              "  </tbody>\n",
              "</table>\n",
              "<p>699 rows × 8 columns</p>\n",
              "</div>\n",
              "    <div class=\"colab-df-buttons\">\n",
              "\n",
              "  <div class=\"colab-df-container\">\n",
              "    <button class=\"colab-df-convert\" onclick=\"convertToInteractive('df-3d2c8256-41e1-4740-8f92-350260cb0e37')\"\n",
              "            title=\"Convert this dataframe to an interactive table.\"\n",
              "            style=\"display:none;\">\n",
              "\n",
              "  <svg xmlns=\"http://www.w3.org/2000/svg\" height=\"24px\" viewBox=\"0 -960 960 960\">\n",
              "    <path d=\"M120-120v-720h720v720H120Zm60-500h600v-160H180v160Zm220 220h160v-160H400v160Zm0 220h160v-160H400v160ZM180-400h160v-160H180v160Zm440 0h160v-160H620v160ZM180-180h160v-160H180v160Zm440 0h160v-160H620v160Z\"/>\n",
              "  </svg>\n",
              "    </button>\n",
              "\n",
              "  <style>\n",
              "    .colab-df-container {\n",
              "      display:flex;\n",
              "      gap: 12px;\n",
              "    }\n",
              "\n",
              "    .colab-df-convert {\n",
              "      background-color: #E8F0FE;\n",
              "      border: none;\n",
              "      border-radius: 50%;\n",
              "      cursor: pointer;\n",
              "      display: none;\n",
              "      fill: #1967D2;\n",
              "      height: 32px;\n",
              "      padding: 0 0 0 0;\n",
              "      width: 32px;\n",
              "    }\n",
              "\n",
              "    .colab-df-convert:hover {\n",
              "      background-color: #E2EBFA;\n",
              "      box-shadow: 0px 1px 2px rgba(60, 64, 67, 0.3), 0px 1px 3px 1px rgba(60, 64, 67, 0.15);\n",
              "      fill: #174EA6;\n",
              "    }\n",
              "\n",
              "    .colab-df-buttons div {\n",
              "      margin-bottom: 4px;\n",
              "    }\n",
              "\n",
              "    [theme=dark] .colab-df-convert {\n",
              "      background-color: #3B4455;\n",
              "      fill: #D2E3FC;\n",
              "    }\n",
              "\n",
              "    [theme=dark] .colab-df-convert:hover {\n",
              "      background-color: #434B5C;\n",
              "      box-shadow: 0px 1px 3px 1px rgba(0, 0, 0, 0.15);\n",
              "      filter: drop-shadow(0px 1px 2px rgba(0, 0, 0, 0.3));\n",
              "      fill: #FFFFFF;\n",
              "    }\n",
              "  </style>\n",
              "\n",
              "    <script>\n",
              "      const buttonEl =\n",
              "        document.querySelector('#df-3d2c8256-41e1-4740-8f92-350260cb0e37 button.colab-df-convert');\n",
              "      buttonEl.style.display =\n",
              "        google.colab.kernel.accessAllowed ? 'block' : 'none';\n",
              "\n",
              "      async function convertToInteractive(key) {\n",
              "        const element = document.querySelector('#df-3d2c8256-41e1-4740-8f92-350260cb0e37');\n",
              "        const dataTable =\n",
              "          await google.colab.kernel.invokeFunction('convertToInteractive',\n",
              "                                                    [key], {});\n",
              "        if (!dataTable) return;\n",
              "\n",
              "        const docLinkHtml = 'Like what you see? Visit the ' +\n",
              "          '<a target=\"_blank\" href=https://colab.research.google.com/notebooks/data_table.ipynb>data table notebook</a>'\n",
              "          + ' to learn more about interactive tables.';\n",
              "        element.innerHTML = '';\n",
              "        dataTable['output_type'] = 'display_data';\n",
              "        await google.colab.output.renderOutput(dataTable, element);\n",
              "        const docLink = document.createElement('div');\n",
              "        docLink.innerHTML = docLinkHtml;\n",
              "        element.appendChild(docLink);\n",
              "      }\n",
              "    </script>\n",
              "  </div>\n",
              "\n",
              "\n",
              "<div id=\"df-27cd6902-8442-41f6-afd4-4069e6f02638\">\n",
              "  <button class=\"colab-df-quickchart\" onclick=\"quickchart('df-27cd6902-8442-41f6-afd4-4069e6f02638')\"\n",
              "            title=\"Suggest charts\"\n",
              "            style=\"display:none;\">\n",
              "\n",
              "<svg xmlns=\"http://www.w3.org/2000/svg\" height=\"24px\"viewBox=\"0 0 24 24\"\n",
              "     width=\"24px\">\n",
              "    <g>\n",
              "        <path d=\"M19 3H5c-1.1 0-2 .9-2 2v14c0 1.1.9 2 2 2h14c1.1 0 2-.9 2-2V5c0-1.1-.9-2-2-2zM9 17H7v-7h2v7zm4 0h-2V7h2v10zm4 0h-2v-4h2v4z\"/>\n",
              "    </g>\n",
              "</svg>\n",
              "  </button>\n",
              "\n",
              "<style>\n",
              "  .colab-df-quickchart {\n",
              "      --bg-color: #E8F0FE;\n",
              "      --fill-color: #1967D2;\n",
              "      --hover-bg-color: #E2EBFA;\n",
              "      --hover-fill-color: #174EA6;\n",
              "      --disabled-fill-color: #AAA;\n",
              "      --disabled-bg-color: #DDD;\n",
              "  }\n",
              "\n",
              "  [theme=dark] .colab-df-quickchart {\n",
              "      --bg-color: #3B4455;\n",
              "      --fill-color: #D2E3FC;\n",
              "      --hover-bg-color: #434B5C;\n",
              "      --hover-fill-color: #FFFFFF;\n",
              "      --disabled-bg-color: #3B4455;\n",
              "      --disabled-fill-color: #666;\n",
              "  }\n",
              "\n",
              "  .colab-df-quickchart {\n",
              "    background-color: var(--bg-color);\n",
              "    border: none;\n",
              "    border-radius: 50%;\n",
              "    cursor: pointer;\n",
              "    display: none;\n",
              "    fill: var(--fill-color);\n",
              "    height: 32px;\n",
              "    padding: 0;\n",
              "    width: 32px;\n",
              "  }\n",
              "\n",
              "  .colab-df-quickchart:hover {\n",
              "    background-color: var(--hover-bg-color);\n",
              "    box-shadow: 0 1px 2px rgba(60, 64, 67, 0.3), 0 1px 3px 1px rgba(60, 64, 67, 0.15);\n",
              "    fill: var(--button-hover-fill-color);\n",
              "  }\n",
              "\n",
              "  .colab-df-quickchart-complete:disabled,\n",
              "  .colab-df-quickchart-complete:disabled:hover {\n",
              "    background-color: var(--disabled-bg-color);\n",
              "    fill: var(--disabled-fill-color);\n",
              "    box-shadow: none;\n",
              "  }\n",
              "\n",
              "  .colab-df-spinner {\n",
              "    border: 2px solid var(--fill-color);\n",
              "    border-color: transparent;\n",
              "    border-bottom-color: var(--fill-color);\n",
              "    animation:\n",
              "      spin 1s steps(1) infinite;\n",
              "  }\n",
              "\n",
              "  @keyframes spin {\n",
              "    0% {\n",
              "      border-color: transparent;\n",
              "      border-bottom-color: var(--fill-color);\n",
              "      border-left-color: var(--fill-color);\n",
              "    }\n",
              "    20% {\n",
              "      border-color: transparent;\n",
              "      border-left-color: var(--fill-color);\n",
              "      border-top-color: var(--fill-color);\n",
              "    }\n",
              "    30% {\n",
              "      border-color: transparent;\n",
              "      border-left-color: var(--fill-color);\n",
              "      border-top-color: var(--fill-color);\n",
              "      border-right-color: var(--fill-color);\n",
              "    }\n",
              "    40% {\n",
              "      border-color: transparent;\n",
              "      border-right-color: var(--fill-color);\n",
              "      border-top-color: var(--fill-color);\n",
              "    }\n",
              "    60% {\n",
              "      border-color: transparent;\n",
              "      border-right-color: var(--fill-color);\n",
              "    }\n",
              "    80% {\n",
              "      border-color: transparent;\n",
              "      border-right-color: var(--fill-color);\n",
              "      border-bottom-color: var(--fill-color);\n",
              "    }\n",
              "    90% {\n",
              "      border-color: transparent;\n",
              "      border-bottom-color: var(--fill-color);\n",
              "    }\n",
              "  }\n",
              "</style>\n",
              "\n",
              "  <script>\n",
              "    async function quickchart(key) {\n",
              "      const quickchartButtonEl =\n",
              "        document.querySelector('#' + key + ' button');\n",
              "      quickchartButtonEl.disabled = true;  // To prevent multiple clicks.\n",
              "      quickchartButtonEl.classList.add('colab-df-spinner');\n",
              "      try {\n",
              "        const charts = await google.colab.kernel.invokeFunction(\n",
              "            'suggestCharts', [key], {});\n",
              "      } catch (error) {\n",
              "        console.error('Error during call to suggestCharts:', error);\n",
              "      }\n",
              "      quickchartButtonEl.classList.remove('colab-df-spinner');\n",
              "      quickchartButtonEl.classList.add('colab-df-quickchart-complete');\n",
              "    }\n",
              "    (() => {\n",
              "      let quickchartButtonEl =\n",
              "        document.querySelector('#df-27cd6902-8442-41f6-afd4-4069e6f02638 button');\n",
              "      quickchartButtonEl.style.display =\n",
              "        google.colab.kernel.accessAllowed ? 'block' : 'none';\n",
              "    })();\n",
              "  </script>\n",
              "</div>\n",
              "    </div>\n",
              "  </div>\n"
            ]
          },
          "metadata": {},
          "execution_count": 44
        }
      ],
      "source": [
        "#Решение#\n",
        "import pandas as pd\n",
        "\n",
        "path = \"titanic.csv\"\n",
        "dataset = pd.read_csv(path)\n",
        "\n",
        "dataset[dataset.duplicated(['Pclass', 'Age'])].sort_values(['Pclass', 'Age'], ascending = False)\n"
      ]
    },
    {
      "cell_type": "markdown",
      "id": "54a820ec",
      "metadata": {
        "id": "54a820ec"
      },
      "source": [
        "3. Используя группировку:\n",
        "- посчитать сколько пассажиров в каждом классе\n",
        "- переименовать одну из колонок полученного датасета в колонку \"Сount\"\n",
        "- вывести значение \"Сount\" для пассажиров второго класса"
      ]
    },
    {
      "cell_type": "code",
      "execution_count": 69,
      "id": "d7d2b2a5",
      "metadata": {
        "ExecuteTime": {
          "end_time": "2023-09-06T13:35:12.191732Z",
          "start_time": "2023-09-06T13:35:12.178571Z"
        },
        "colab": {
          "base_uri": "https://localhost:8080/",
          "height": 199
        },
        "id": "d7d2b2a5",
        "outputId": "491f3c45-f737-43e7-d520-5b3129d79f55"
      },
      "outputs": [
        {
          "output_type": "stream",
          "name": "stdout",
          "text": [
            "        Count\n",
            "Pclass       \n",
            "1         216\n",
            "2         184\n",
            "3         487\n"
          ]
        },
        {
          "output_type": "execute_result",
          "data": {
            "text/plain": [
              "        Count\n",
              "Pclass       \n",
              "2         184"
            ],
            "text/html": [
              "\n",
              "  <div id=\"df-33bb10c3-feaa-48c5-84db-b817f3810b2a\" class=\"colab-df-container\">\n",
              "    <div>\n",
              "<style scoped>\n",
              "    .dataframe tbody tr th:only-of-type {\n",
              "        vertical-align: middle;\n",
              "    }\n",
              "\n",
              "    .dataframe tbody tr th {\n",
              "        vertical-align: top;\n",
              "    }\n",
              "\n",
              "    .dataframe thead th {\n",
              "        text-align: right;\n",
              "    }\n",
              "</style>\n",
              "<table border=\"1\" class=\"dataframe\">\n",
              "  <thead>\n",
              "    <tr style=\"text-align: right;\">\n",
              "      <th></th>\n",
              "      <th>Count</th>\n",
              "    </tr>\n",
              "    <tr>\n",
              "      <th>Pclass</th>\n",
              "      <th></th>\n",
              "    </tr>\n",
              "  </thead>\n",
              "  <tbody>\n",
              "    <tr>\n",
              "      <th>2</th>\n",
              "      <td>184</td>\n",
              "    </tr>\n",
              "  </tbody>\n",
              "</table>\n",
              "</div>\n",
              "    <div class=\"colab-df-buttons\">\n",
              "\n",
              "  <div class=\"colab-df-container\">\n",
              "    <button class=\"colab-df-convert\" onclick=\"convertToInteractive('df-33bb10c3-feaa-48c5-84db-b817f3810b2a')\"\n",
              "            title=\"Convert this dataframe to an interactive table.\"\n",
              "            style=\"display:none;\">\n",
              "\n",
              "  <svg xmlns=\"http://www.w3.org/2000/svg\" height=\"24px\" viewBox=\"0 -960 960 960\">\n",
              "    <path d=\"M120-120v-720h720v720H120Zm60-500h600v-160H180v160Zm220 220h160v-160H400v160Zm0 220h160v-160H400v160ZM180-400h160v-160H180v160Zm440 0h160v-160H620v160ZM180-180h160v-160H180v160Zm440 0h160v-160H620v160Z\"/>\n",
              "  </svg>\n",
              "    </button>\n",
              "\n",
              "  <style>\n",
              "    .colab-df-container {\n",
              "      display:flex;\n",
              "      gap: 12px;\n",
              "    }\n",
              "\n",
              "    .colab-df-convert {\n",
              "      background-color: #E8F0FE;\n",
              "      border: none;\n",
              "      border-radius: 50%;\n",
              "      cursor: pointer;\n",
              "      display: none;\n",
              "      fill: #1967D2;\n",
              "      height: 32px;\n",
              "      padding: 0 0 0 0;\n",
              "      width: 32px;\n",
              "    }\n",
              "\n",
              "    .colab-df-convert:hover {\n",
              "      background-color: #E2EBFA;\n",
              "      box-shadow: 0px 1px 2px rgba(60, 64, 67, 0.3), 0px 1px 3px 1px rgba(60, 64, 67, 0.15);\n",
              "      fill: #174EA6;\n",
              "    }\n",
              "\n",
              "    .colab-df-buttons div {\n",
              "      margin-bottom: 4px;\n",
              "    }\n",
              "\n",
              "    [theme=dark] .colab-df-convert {\n",
              "      background-color: #3B4455;\n",
              "      fill: #D2E3FC;\n",
              "    }\n",
              "\n",
              "    [theme=dark] .colab-df-convert:hover {\n",
              "      background-color: #434B5C;\n",
              "      box-shadow: 0px 1px 3px 1px rgba(0, 0, 0, 0.15);\n",
              "      filter: drop-shadow(0px 1px 2px rgba(0, 0, 0, 0.3));\n",
              "      fill: #FFFFFF;\n",
              "    }\n",
              "  </style>\n",
              "\n",
              "    <script>\n",
              "      const buttonEl =\n",
              "        document.querySelector('#df-33bb10c3-feaa-48c5-84db-b817f3810b2a button.colab-df-convert');\n",
              "      buttonEl.style.display =\n",
              "        google.colab.kernel.accessAllowed ? 'block' : 'none';\n",
              "\n",
              "      async function convertToInteractive(key) {\n",
              "        const element = document.querySelector('#df-33bb10c3-feaa-48c5-84db-b817f3810b2a');\n",
              "        const dataTable =\n",
              "          await google.colab.kernel.invokeFunction('convertToInteractive',\n",
              "                                                    [key], {});\n",
              "        if (!dataTable) return;\n",
              "\n",
              "        const docLinkHtml = 'Like what you see? Visit the ' +\n",
              "          '<a target=\"_blank\" href=https://colab.research.google.com/notebooks/data_table.ipynb>data table notebook</a>'\n",
              "          + ' to learn more about interactive tables.';\n",
              "        element.innerHTML = '';\n",
              "        dataTable['output_type'] = 'display_data';\n",
              "        await google.colab.output.renderOutput(dataTable, element);\n",
              "        const docLink = document.createElement('div');\n",
              "        docLink.innerHTML = docLinkHtml;\n",
              "        element.appendChild(docLink);\n",
              "      }\n",
              "    </script>\n",
              "  </div>\n",
              "\n",
              "    </div>\n",
              "  </div>\n"
            ]
          },
          "metadata": {},
          "execution_count": 69
        }
      ],
      "source": [
        "#Решение#\n",
        "import pandas as pd\n",
        "\n",
        "path = \"titanic.csv\"\n",
        "dataset = pd.read_csv(path)\n",
        "\n",
        "dataset = dataset.rename(columns={'Survived': 'Count'})\n",
        "\n",
        "print(dataset[['Pclass', 'Count']].groupby('Pclass').count())\n",
        "\n",
        "dataset[(dataset.Pclass == 2)][['Count', 'Pclass']].groupby('Pclass').count()\n"
      ]
    },
    {
      "cell_type": "markdown",
      "source": [
        "**+1 балл**\n",
        "\n",
        "В последнем задании не хватает *посчитать сколько пассажиров в каждом классе*\n",
        "\n",
        "Если добавите, то поставлю ещё балл"
      ],
      "metadata": {
        "id": "MwYz6GWhZkd0"
      },
      "id": "MwYz6GWhZkd0"
    }
  ],
  "metadata": {
    "kernelspec": {
      "display_name": "Python 3 (ipykernel)",
      "language": "python",
      "name": "python3"
    },
    "language_info": {
      "codemirror_mode": {
        "name": "ipython",
        "version": 3
      },
      "file_extension": ".py",
      "mimetype": "text/x-python",
      "name": "python",
      "nbconvert_exporter": "python",
      "pygments_lexer": "ipython3",
      "version": "3.8.16"
    },
    "latex_envs": {
      "LaTeX_envs_menu_present": true,
      "autoclose": false,
      "autocomplete": true,
      "bibliofile": "biblio.bib",
      "cite_by": "apalike",
      "current_citInitial": 1,
      "eqLabelWithNumbers": true,
      "eqNumInitial": 1,
      "hotkeys": {
        "equation": "Ctrl-E",
        "itemize": "Ctrl-I"
      },
      "labels_anchors": false,
      "latex_user_defs": false,
      "report_style_numbering": false,
      "user_envs_cfg": false
    },
    "toc": {
      "base_numbering": 1,
      "nav_menu": {},
      "number_sections": true,
      "sideBar": true,
      "skip_h1_title": false,
      "title_cell": "Table of Contents",
      "title_sidebar": "Contents",
      "toc_cell": false,
      "toc_position": {},
      "toc_section_display": true,
      "toc_window_display": false
    },
    "varInspector": {
      "cols": {
        "lenName": 16,
        "lenType": 16,
        "lenVar": 40
      },
      "kernels_config": {
        "python": {
          "delete_cmd_postfix": "",
          "delete_cmd_prefix": "del ",
          "library": "var_list.py",
          "varRefreshCmd": "print(var_dic_list())"
        },
        "r": {
          "delete_cmd_postfix": ") ",
          "delete_cmd_prefix": "rm(",
          "library": "var_list.r",
          "varRefreshCmd": "cat(var_dic_list()) "
        }
      },
      "types_to_exclude": [
        "module",
        "function",
        "builtin_function_or_method",
        "instance",
        "_Feature"
      ],
      "window_display": false
    },
    "colab": {
      "provenance": []
    }
  },
  "nbformat": 4,
  "nbformat_minor": 5
}