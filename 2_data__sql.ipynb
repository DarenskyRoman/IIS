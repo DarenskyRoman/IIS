{
  "cells": [
    {
      "cell_type": "code",
      "execution_count": 1,
      "metadata": {
        "id": "I7Hzqif-CYsV"
      },
      "outputs": [],
      "source": [
        "import sqlite3\n",
        "import pandas as pd\n",
        "import numpy as np"
      ]
    },
    {
      "cell_type": "code",
      "execution_count": 2,
      "metadata": {
        "id": "Z1b2DMueQ0FT"
      },
      "outputs": [],
      "source": [
        "#  Создаем базу данных и коннектимся к ней\n",
        "con = sqlite3.connect(\"practice.db\")\n",
        "cur = con.cursor()"
      ]
    },
    {
      "cell_type": "code",
      "execution_count": 3,
      "metadata": {
        "colab": {
          "base_uri": "https://localhost:8080/"
        },
        "id": "sOG7up_-Ie5v",
        "outputId": "92435a9d-82d2-4b99-96cd-30b6a7dd1156"
      },
      "outputs": [
        {
          "output_type": "execute_result",
          "data": {
            "text/plain": [
              "<sqlite3.Cursor at 0x7b991d9684c0>"
            ]
          },
          "metadata": {},
          "execution_count": 3
        }
      ],
      "source": [
        "#  Создаем таблицу university\n",
        "cur.execute(\"\"\"\n",
        "CREATE TABLE university(\n",
        "  id INTEGER PRIMARY KEY AUTOINCREMENT,\n",
        "  title TEXT NOT NULL,\n",
        "  year INTEGER NOT NULL\n",
        ")\n",
        "\"\"\")"
      ]
    },
    {
      "cell_type": "code",
      "execution_count": 4,
      "metadata": {
        "colab": {
          "base_uri": "https://localhost:8080/"
        },
        "id": "zcFWiXeRRJR5",
        "outputId": "722c53cf-beee-428c-ee06-3a301f297f52"
      },
      "outputs": [
        {
          "output_type": "execute_result",
          "data": {
            "text/plain": [
              "<sqlite3.Cursor at 0x7b991d9684c0>"
            ]
          },
          "metadata": {},
          "execution_count": 4
        }
      ],
      "source": [
        "#  Создаем таблицу people\n",
        "cur.execute(\"\"\"\n",
        "CREATE TABLE people(\n",
        "  id INTEGER PRIMARY KEY AUTOINCREMENT,\n",
        "  first_name TEXT NOT NULL,\n",
        "  second_name TEXT NOT NULL,\n",
        "  year_of_birth INTEGER,\n",
        "  university_id INTEGER\n",
        ")\n",
        "\"\"\")"
      ]
    },
    {
      "cell_type": "code",
      "execution_count": 5,
      "metadata": {
        "colab": {
          "base_uri": "https://localhost:8080/"
        },
        "id": "eqeJuWExIog4",
        "outputId": "0a542cbd-4d19-4bfe-fe57-3747a7318248"
      },
      "outputs": [
        {
          "output_type": "execute_result",
          "data": {
            "text/plain": [
              "<sqlite3.Cursor at 0x7b991d9684c0>"
            ]
          },
          "metadata": {},
          "execution_count": 5
        }
      ],
      "source": [
        "#  Добавляем строки в таблицу university\n",
        "cur.execute(\"\"\"INSERT INTO university(title, year)\n",
        "VALUES\n",
        "  ('Saratov State University', 1909),\n",
        "  ('Saratov State Technical University', 1930),\n",
        "  ('Saratov State Law Academy', 1931)\n",
        "\"\"\")"
      ]
    },
    {
      "cell_type": "code",
      "execution_count": 6,
      "metadata": {
        "colab": {
          "base_uri": "https://localhost:8080/"
        },
        "id": "lY-7Mqhgelw3",
        "outputId": "6121abb4-eef7-413a-e455-bf87ea95be01"
      },
      "outputs": [
        {
          "output_type": "execute_result",
          "data": {
            "text/plain": [
              "<sqlite3.Cursor at 0x7b991d9684c0>"
            ]
          },
          "metadata": {},
          "execution_count": 6
        }
      ],
      "source": [
        "#  Добавляем строки в таблицу people\n",
        "cur.execute(\"\"\"INSERT INTO people(first_name, second_name, year_of_birth, university_id)\n",
        "VALUES\n",
        "  ('Anna', 'Krilova', 2000, 1),\n",
        "  ('Daniil', 'Logunov', 1998, 2),\n",
        "  ('Ivan', 'Popov', 1999, 3),\n",
        "  ('Alena', 'Silina', 1999, 3),\n",
        "  ('Konstantin', 'Sharov', 2001, 2),\n",
        "  ('Anna', 'Teterina', 1998, 2),\n",
        "  ('Stanislav', 'Vlasov', 2002, 3),\n",
        "  ('Ulyana', 'Likhacheva', 2000, 1),\n",
        "  ('Anna', 'Ivanova', 1999, 1),\n",
        "  ('Diana', 'Ovchinnikova', 1997, 3),\n",
        "  ('Valery', 'Zhdanov', 2002, 2),\n",
        "  ('Alla', 'Kuznetsova', 2003, 2)\n",
        "\"\"\")"
      ]
    },
    {
      "cell_type": "markdown",
      "metadata": {
        "id": "O5vNWRvvMsMw"
      },
      "source": [
        "# Запросы к таблицам"
      ]
    },
    {
      "cell_type": "markdown",
      "metadata": {
        "id": "tUo1vP2QN6E5"
      },
      "source": [
        "Общая структура запросов:\n",
        "\n",
        "`SELECT` (столбцы или * для выбора всех столбцов; **обязательно**)<br>\n",
        "`FROM` (таблица; **обязательно**)<br>\n",
        "`WHERE` (условие/фильтрация, например, year = 1909; **необязательно**)<br>\n",
        "`GROUP BY` (столбец, по которому хотим сгруппировать данные; **необязательно**)<br>\n",
        "`HAVING` (условие/фильтрация на уровне сгруппированных данных; **необязательно**)<br>\n",
        "`ORDER BY` (столбец, по которому хотим отсортировать вывод; **необязательно**)"
      ]
    },
    {
      "cell_type": "markdown",
      "metadata": {
        "id": "HUYD9qVwOivM"
      },
      "source": [
        "## SELECT ... FROM ..."
      ]
    },
    {
      "cell_type": "markdown",
      "metadata": {
        "id": "SkZi85K4LtMr"
      },
      "source": [
        "SELECT, FROM — обязательные элементы запроса, которые определяют выбранные столбцы, их порядок и источник данных.\n",
        "\n",
        "**Синтаксис:**\n",
        "```\n",
        "SELECT col_1, col_2 FROM table_name\n",
        "```\n",
        "\n",
        "Выбрать все обозначается как *:\n",
        "```\n",
        "SELECT * FROM table_name\n",
        "```"
      ]
    },
    {
      "cell_type": "markdown",
      "metadata": {
        "id": "CLiol8BrMSF6"
      },
      "source": [
        "Выведем поля `first_name`, `second_name` и `year_of_birth` из таблицы **people**"
      ]
    },
    {
      "cell_type": "code",
      "execution_count": 7,
      "metadata": {
        "colab": {
          "base_uri": "https://localhost:8080/"
        },
        "id": "qP4Cy7LGPhHF",
        "outputId": "6597f726-764b-4249-8073-18c23ced1eee"
      },
      "outputs": [
        {
          "output_type": "execute_result",
          "data": {
            "text/plain": [
              "[('Anna', 'Krilova', 2000),\n",
              " ('Daniil', 'Logunov', 1998),\n",
              " ('Ivan', 'Popov', 1999),\n",
              " ('Alena', 'Silina', 1999),\n",
              " ('Konstantin', 'Sharov', 2001),\n",
              " ('Anna', 'Teterina', 1998),\n",
              " ('Stanislav', 'Vlasov', 2002),\n",
              " ('Ulyana', 'Likhacheva', 2000),\n",
              " ('Anna', 'Ivanova', 1999),\n",
              " ('Diana', 'Ovchinnikova', 1997),\n",
              " ('Valery', 'Zhdanov', 2002),\n",
              " ('Alla', 'Kuznetsova', 2003)]"
            ]
          },
          "metadata": {},
          "execution_count": 7
        }
      ],
      "source": [
        "cur.execute(\"\"\"SELECT first_name, second_name, year_of_birth FROM people\"\"\").fetchall()"
      ]
    },
    {
      "cell_type": "markdown",
      "metadata": {
        "id": "KnwX9smqXjBT"
      },
      "source": [
        "### Задание 2.1.1"
      ]
    },
    {
      "cell_type": "markdown",
      "metadata": {
        "id": "fOqq00C0cbRg"
      },
      "source": [
        "(**1 балл**) Вывести все поля из таблицы **university**."
      ]
    },
    {
      "cell_type": "code",
      "execution_count": 8,
      "metadata": {
        "id": "oRwyjsaucYt2",
        "tags": [],
        "colab": {
          "base_uri": "https://localhost:8080/"
        },
        "outputId": "b8dc0b1a-bece-4ece-8dcc-234fdbe5f74a"
      },
      "outputs": [
        {
          "output_type": "execute_result",
          "data": {
            "text/plain": [
              "[(1, 'Saratov State University', 1909),\n",
              " (2, 'Saratov State Technical University', 1930),\n",
              " (3, 'Saratov State Law Academy', 1931)]"
            ]
          },
          "metadata": {},
          "execution_count": 8
        }
      ],
      "source": [
        "# Ваш код\n",
        "cur.execute(\"\"\"SELECT * FROM university\"\"\").fetchall()\n"
      ]
    },
    {
      "cell_type": "markdown",
      "source": [
        "**+1 балл**"
      ],
      "metadata": {
        "id": "XGpxu-6PbUq2"
      }
    },
    {
      "cell_type": "markdown",
      "metadata": {
        "id": "uCYgMlwwRcqY"
      },
      "source": [
        "## WHERE"
      ]
    },
    {
      "cell_type": "markdown",
      "metadata": {
        "id": "Qk12uFlHR_dr"
      },
      "source": [
        "WHERE — необязательный элемент запроса, который используется, когда нужно отфильтровать данные по нужному условию. Очень часто внутри элемента WHERE используются IN / NOT IN для фильтрации столбца по нескольким значениям, AND / OR для фильтрации таблицы по нескольким столбцам.\n",
        "\n",
        "**Синтаксис:**\n",
        "```\n",
        "SELECT col_1, col_2\n",
        "FROM table_name\n",
        "WHERE col_1 = 1 OR col_1 = 2 AND col_2 != 2\n",
        "```"
      ]
    },
    {
      "cell_type": "markdown",
      "metadata": {
        "id": "eyXfimlgaNSh"
      },
      "source": [
        "Выведем все поля из таблицы **people** для людей с именем 'Anna' и годом рождения до 1999 (включительно):\n",
        "\n"
      ]
    },
    {
      "cell_type": "code",
      "execution_count": 9,
      "metadata": {
        "colab": {
          "base_uri": "https://localhost:8080/"
        },
        "id": "dc1Op6N6ab6Q",
        "outputId": "ceebe5d5-3a37-45b8-c663-ea6bca2fde94"
      },
      "outputs": [
        {
          "output_type": "execute_result",
          "data": {
            "text/plain": [
              "[(6, 'Anna', 'Teterina', 1998, 2), (9, 'Anna', 'Ivanova', 1999, 1)]"
            ]
          },
          "metadata": {},
          "execution_count": 9
        }
      ],
      "source": [
        "cur.execute(\"\"\"\n",
        "SELECT *\n",
        "FROM people\n",
        "WHERE first_name = 'Anna' AND year_of_birth <= 1999\n",
        "\"\"\").fetchall()"
      ]
    },
    {
      "cell_type": "markdown",
      "metadata": {
        "id": "1DaLYl-vXjBY"
      },
      "source": [
        "### Задание 2.1.2"
      ]
    },
    {
      "cell_type": "markdown",
      "metadata": {
        "id": "T9snTNVDbWeo"
      },
      "source": [
        "(**1 балл**) Вывести названия (`title`) университетов из таблицы **university**, год основания (`year`) которых ранее 1920."
      ]
    },
    {
      "cell_type": "code",
      "execution_count": 10,
      "metadata": {
        "id": "Y8eevGWfcH1C",
        "colab": {
          "base_uri": "https://localhost:8080/"
        },
        "outputId": "b4614289-3a15-4924-8286-9beb11b6fdcb"
      },
      "outputs": [
        {
          "output_type": "execute_result",
          "data": {
            "text/plain": [
              "[('Saratov State University',)]"
            ]
          },
          "metadata": {},
          "execution_count": 10
        }
      ],
      "source": [
        "# Ваш код\n",
        "cur.execute(\"\"\"SELECT title FROM university WHERE year < 1920\"\"\").fetchall()\n"
      ]
    },
    {
      "cell_type": "markdown",
      "source": [
        "**+1 балл**"
      ],
      "metadata": {
        "id": "6Lu-kjUZba01"
      }
    },
    {
      "cell_type": "markdown",
      "metadata": {
        "id": "p-rcJIfrcoIh"
      },
      "source": [
        "## ORDER BY"
      ]
    },
    {
      "cell_type": "markdown",
      "metadata": {
        "id": "gK4ET2pcsd3i"
      },
      "source": [
        "ORDER BY — необязательный элемент запроса, который отвечает за сортировку таблицы.\n",
        "\n",
        "**Синтаксис:**\n",
        "```\n",
        "SELECT col_1, col_2\n",
        "FROM table_name\n",
        "ORDER BY col_1, col_3\n",
        "```\n",
        "\n",
        "Если нужна обратная сортировка, то в конструкции ORDER BY после названия столбца надо добавить DESC:\n",
        "```\n",
        "SELECT col_1, col_2\n",
        "FROM table_name\n",
        "ORDER BY col_1, col_3 DESC\n",
        "```"
      ]
    },
    {
      "cell_type": "markdown",
      "metadata": {
        "id": "N8JIcDhEtOYe"
      },
      "source": [
        "Выведем поля `first_name`, `second_name`, `year_of_birth` из таблицы **people**, год рождения (`year_of_birth`) которых до 2000 (включительно). Выдача должна быть отсортирована в порядке от более взрослых студентов к более молодым:"
      ]
    },
    {
      "cell_type": "code",
      "execution_count": 11,
      "metadata": {
        "colab": {
          "base_uri": "https://localhost:8080/"
        },
        "id": "58QQq-bNt4jU",
        "outputId": "1f2d5d64-d5b4-41f2-c716-6148561a2d04"
      },
      "outputs": [
        {
          "output_type": "execute_result",
          "data": {
            "text/plain": [
              "[('Diana', 'Ovchinnikova', 1997),\n",
              " ('Daniil', 'Logunov', 1998),\n",
              " ('Anna', 'Teterina', 1998),\n",
              " ('Ivan', 'Popov', 1999),\n",
              " ('Alena', 'Silina', 1999),\n",
              " ('Anna', 'Ivanova', 1999),\n",
              " ('Anna', 'Krilova', 2000),\n",
              " ('Ulyana', 'Likhacheva', 2000)]"
            ]
          },
          "metadata": {},
          "execution_count": 11
        }
      ],
      "source": [
        "cur.execute(\"\"\"\n",
        "SELECT first_name, second_name, year_of_birth\n",
        "FROM people\n",
        "WHERE year_of_birth <= 2000\n",
        "ORDER BY year_of_birth\n",
        "\"\"\").fetchall()"
      ]
    },
    {
      "cell_type": "markdown",
      "metadata": {
        "id": "ycqSN_SEXjBa"
      },
      "source": [
        "### Задание 2.1.3"
      ]
    },
    {
      "cell_type": "markdown",
      "metadata": {
        "id": "mPNrwM2XuvQL"
      },
      "source": [
        "(**1 балл**) Вывести все поля из таблицы **university** в отсортированном порядке от более новых университетов к более старым."
      ]
    },
    {
      "cell_type": "code",
      "execution_count": 12,
      "metadata": {
        "id": "LLrjcMplvIyw",
        "colab": {
          "base_uri": "https://localhost:8080/"
        },
        "outputId": "778ec5aa-3b0f-4b91-cd2c-f310599d619c"
      },
      "outputs": [
        {
          "output_type": "execute_result",
          "data": {
            "text/plain": [
              "[(3, 'Saratov State Law Academy', 1931),\n",
              " (2, 'Saratov State Technical University', 1930),\n",
              " (1, 'Saratov State University', 1909)]"
            ]
          },
          "metadata": {},
          "execution_count": 12
        }
      ],
      "source": [
        "# Ваш код\n",
        "cur.execute(\"\"\"SELECT * FROM university ORDER BY year DESC\"\"\").fetchall()\n"
      ]
    },
    {
      "cell_type": "markdown",
      "source": [
        "**+1 балл**"
      ],
      "metadata": {
        "id": "I48X5amfbfoA"
      }
    },
    {
      "cell_type": "markdown",
      "metadata": {
        "id": "6Lk83pSGwQt_"
      },
      "source": [
        "## GROUP BY"
      ]
    },
    {
      "cell_type": "markdown",
      "metadata": {
        "id": "QqQAWVtywijY"
      },
      "source": [
        "GROUP BY — необязательный элемент запроса, с помощью которого можно задать агрегацию по нужному столбцу (например, если нужно узнать какое количество студентов каждого года рождения).\n",
        "\n",
        "**При использовании GROUP BY обязательно:**\n",
        "1.   Перечень столбцов, по которым делается разрез, был одинаковым внутри SELECT и внутри GROUP BY;\n",
        "\n",
        "2.   Агрегатные функции (SUM, AVG, COUNT, MAX, MIN) должны быть также указаны внутри SELECT с указанием столбца, к которому такая функция применяется.\n",
        "\n",
        "**Синтаксис:**\n",
        "```\n",
        "SELECT col_1, col_2, MAX(col_3)\n",
        "FROM table_name\n",
        "GROUP BY col_1, col_2\n",
        "```"
      ]
    },
    {
      "cell_type": "markdown",
      "metadata": {
        "id": "hSzAWvD2w_n3"
      },
      "source": [
        "Узнаем количество студентов по каждому году рождения:\n",
        "\n",
        "\n"
      ]
    },
    {
      "cell_type": "code",
      "execution_count": 13,
      "metadata": {
        "colab": {
          "base_uri": "https://localhost:8080/"
        },
        "id": "HFnrhKYPw_OF",
        "outputId": "0368ce51-cb95-4e23-99b1-53fab38c0e8b"
      },
      "outputs": [
        {
          "output_type": "execute_result",
          "data": {
            "text/plain": [
              "[(1997, 1), (1998, 2), (1999, 3), (2000, 2), (2001, 1), (2002, 2), (2003, 1)]"
            ]
          },
          "metadata": {},
          "execution_count": 13
        }
      ],
      "source": [
        "cur.execute(\"\"\"\n",
        "SELECT year_of_birth, COUNT(*)\n",
        "FROM people\n",
        "GROUP BY year_of_birth\n",
        "\"\"\").fetchall()"
      ]
    },
    {
      "cell_type": "markdown",
      "metadata": {
        "id": "KthFEfshXjBd"
      },
      "source": [
        "### Задание 2.1.4"
      ]
    },
    {
      "cell_type": "markdown",
      "metadata": {
        "id": "HZYmkSUOx6Qd"
      },
      "source": [
        "(**1 балл**) Для каждого года рождения выведите первое имя в алфавитном порядке среди всех студентов этого года рождения."
      ]
    },
    {
      "cell_type": "code",
      "execution_count": 20,
      "metadata": {
        "colab": {
          "base_uri": "https://localhost:8080/"
        },
        "id": "3zS6_yIFXjBd",
        "outputId": "65ec2c24-50fd-414b-bf61-ae7690a69dc2"
      },
      "outputs": [
        {
          "output_type": "execute_result",
          "data": {
            "text/plain": [
              "[(1997, 'Diana'),\n",
              " (1998, 'Anna'),\n",
              " (1999, 'Alena'),\n",
              " (2000, 'Anna'),\n",
              " (2001, 'Konstantin'),\n",
              " (2002, 'Stanislav'),\n",
              " (2003, 'Alla')]"
            ]
          },
          "metadata": {},
          "execution_count": 20
        }
      ],
      "source": [
        "# Ваш код\n",
        "\n",
        "cur.execute(\"\"\"\n",
        "SELECT year_of_birth, MIN(first_name) FROM people\n",
        "GROUP BY year_of_birth\n",
        "\"\"\").fetchall()\n"
      ]
    },
    {
      "cell_type": "markdown",
      "source": [
        "Тут ODER BY уже работает после GROUP BY, поэтому результат неверный получается\n",
        "\n",
        "Вот так можно было решить:\n",
        "```\n",
        "cur.execute(\"\"\"\n",
        "SELECT MIN(first_name) FROM people\n",
        "GROUP BY year_of_birth\n",
        "\"\"\").fetchall()\n",
        "```\n",
        "Т.е. просто выбираем минимальное (первое по алфавиту) внутри каждой группы (в данном случае, группа - это определенный год рождения)"
      ],
      "metadata": {
        "id": "oxaW9BS8bkKl"
      }
    },
    {
      "cell_type": "markdown",
      "metadata": {
        "id": "HuHgJU2uyj1q"
      },
      "source": [
        "## JOIN"
      ]
    },
    {
      "cell_type": "markdown",
      "metadata": {
        "id": "eTgjS3rIypx3"
      },
      "source": [
        "JOIN — необязательный элемент, используется для объединения таблиц по ключу, который присутствует в обеих таблицах. Перед ключом ставится оператор ON.\n",
        "\n",
        "Внутри всего запроса JOIN встраивается после элемента FROM до элемента WHERE.\n",
        "\n",
        "**Синтаксис:**\n",
        "```\n",
        "SELECT col_1, col_2\n",
        "FROM table_name\n",
        "JOIN table_name_2\n",
        "ON table_name.col_3 = table_name_2.col4\n",
        "   AND table_name.col_5 = table_name_2.col6\n",
        "```\n",
        "\n",
        "Различают несколько видов JOIN-ов (по дефолту используется `INNER JOIN` и часто он заменяется просто на `JOIN`):\n",
        "![Screenshot 2023-09-13 at 22.32.56.png](data:image/png;base64,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)\n"
      ]
    },
    {
      "cell_type": "markdown",
      "metadata": {
        "id": "vEZOycgc0ryK"
      },
      "source": [
        "Выведем имя (`first_name`), фамилию (`second_name`), год рождения (`year_of_birth`) и название университета (`title`) студентов:"
      ]
    },
    {
      "cell_type": "code",
      "execution_count": null,
      "metadata": {
        "colab": {
          "base_uri": "https://localhost:8080/"
        },
        "id": "6co-lI71ylRq",
        "outputId": "17dd3161-ed82-41d3-ec5d-f658d3de6f53"
      },
      "outputs": [
        {
          "output_type": "execute_result",
          "data": {
            "text/plain": [
              "[('Anna', 'Krilova', 2000, 'Saratov State University'),\n",
              " ('Daniil', 'Logunov', 1998, 'Saratov State Technical University'),\n",
              " ('Ivan', 'Popov', 1999, 'Saratov State Law Academy'),\n",
              " ('Alena', 'Silina', 1999, 'Saratov State Law Academy'),\n",
              " ('Konstantin', 'Sharov', 2001, 'Saratov State Technical University'),\n",
              " ('Anna', 'Teterina', 1998, 'Saratov State Technical University'),\n",
              " ('Stanislav', 'Vlasov', 2002, 'Saratov State Law Academy'),\n",
              " ('Ulyana', 'Likhacheva', 2000, 'Saratov State University'),\n",
              " ('Anna', 'Ivanova', 1999, 'Saratov State University'),\n",
              " ('Diana', 'Ovchinnikova', 1997, 'Saratov State Law Academy'),\n",
              " ('Valery', 'Zhdanov', 2002, 'Saratov State Technical University'),\n",
              " ('Alla', 'Kuznetsova', 2003, 'Saratov State Technical University')]"
            ]
          },
          "metadata": {},
          "execution_count": 16
        }
      ],
      "source": [
        "cur.execute(\"\"\"\n",
        "SELECT first_name, second_name, year_of_birth, title\n",
        "FROM people\n",
        "JOIN university\n",
        "ON people.university_id = university.id\n",
        "\"\"\").fetchall()"
      ]
    },
    {
      "cell_type": "markdown",
      "metadata": {
        "id": "zivHNR-f3J3O"
      },
      "source": [
        "Посчитаем, сколько в каждом университете учится студентов:"
      ]
    },
    {
      "cell_type": "code",
      "execution_count": null,
      "metadata": {
        "colab": {
          "base_uri": "https://localhost:8080/"
        },
        "id": "i2OOmRGl25Iy",
        "outputId": "ff32e042-5e15-4ea3-d714-97210fcbb897"
      },
      "outputs": [
        {
          "output_type": "execute_result",
          "data": {
            "text/plain": [
              "[('Saratov State Law Academy', 4),\n",
              " ('Saratov State Technical University', 5),\n",
              " ('Saratov State University', 3)]"
            ]
          },
          "metadata": {},
          "execution_count": 17
        }
      ],
      "source": [
        "cur.execute(\"\"\"\n",
        "SELECT title, COUNT(*)\n",
        "FROM university\n",
        "JOIN people\n",
        "ON people.university_id = university.id\n",
        "GROUP BY title\n",
        "\"\"\").fetchall()"
      ]
    },
    {
      "cell_type": "markdown",
      "metadata": {
        "id": "cDCW0CILXjCA"
      },
      "source": [
        "### Задание 2.1.5"
      ]
    },
    {
      "cell_type": "markdown",
      "metadata": {
        "id": "cn5EpjGa3XeA"
      },
      "source": [
        "(**1 балл**) Посчитайте средний (с использованием функции AVG) год рождения студентов в каждом университете."
      ]
    },
    {
      "cell_type": "code",
      "execution_count": null,
      "metadata": {
        "colab": {
          "base_uri": "https://localhost:8080/"
        },
        "id": "3wiiRKayXjCA",
        "outputId": "d9a23ca0-5e49-4354-c591-8d855f122ecf"
      },
      "outputs": [
        {
          "output_type": "execute_result",
          "data": {
            "text/plain": [
              "[('Saratov State Law Academy', 1999.25),\n",
              " ('Saratov State Technical University', 2000.4),\n",
              " ('Saratov State University', 1999.67)]"
            ]
          },
          "metadata": {},
          "execution_count": 18
        }
      ],
      "source": [
        "# Ваш код\n",
        "cur.execute(\"\"\"\n",
        "SELECT title, ROUND(AVG(year_of_birth), 2)\n",
        "FROM university\n",
        "JOIN people\n",
        "ON people.university_id = university.id\n",
        "GROUP BY title\n",
        "\"\"\").fetchall()\n"
      ]
    },
    {
      "cell_type": "markdown",
      "source": [
        "**+1 балл**"
      ],
      "metadata": {
        "id": "QLsmMAsHcFF1"
      }
    },
    {
      "cell_type": "markdown",
      "metadata": {
        "id": "hviBizxg4RYn"
      },
      "source": [
        "## DROP TABLE"
      ]
    },
    {
      "cell_type": "markdown",
      "metadata": {
        "id": "Yk07ogA24-sw"
      },
      "source": [
        "Чтобы удалить таблицу:\n",
        "``\n",
        "DROP TABLE table_name\n",
        "``"
      ]
    },
    {
      "cell_type": "markdown",
      "metadata": {
        "id": "j_RPgMGJ4dEv"
      },
      "source": [
        "Удалим таблицу **university**:"
      ]
    },
    {
      "cell_type": "code",
      "execution_count": null,
      "metadata": {
        "colab": {
          "base_uri": "https://localhost:8080/"
        },
        "id": "LYqCWACS4hdx",
        "outputId": "2ce24cf4-abc1-4c02-bc34-24ef7ca642a4"
      },
      "outputs": [
        {
          "output_type": "execute_result",
          "data": {
            "text/plain": [
              "<sqlite3.Cursor at 0x7b55df5170c0>"
            ]
          },
          "metadata": {},
          "execution_count": 19
        }
      ],
      "source": [
        "cur.execute(\"\"\"\n",
        "DROP TABLE university\n",
        "\"\"\")"
      ]
    },
    {
      "cell_type": "markdown",
      "metadata": {
        "id": "NsQP7Vvq4sxa"
      },
      "source": [
        "**Задание:** удалите таблицу **people**."
      ]
    },
    {
      "cell_type": "code",
      "execution_count": null,
      "metadata": {
        "id": "qoju8VYA4uDb",
        "colab": {
          "base_uri": "https://localhost:8080/"
        },
        "outputId": "83e9ea18-9ceb-4aee-aa34-1e093c4e5616"
      },
      "outputs": [
        {
          "output_type": "execute_result",
          "data": {
            "text/plain": [
              "<sqlite3.Cursor at 0x7b55df5170c0>"
            ]
          },
          "metadata": {},
          "execution_count": 20
        }
      ],
      "source": [
        "# Ваш код\n",
        "cur.execute(\"\"\"\n",
        "DROP TABLE people\n",
        "\"\"\")\n"
      ]
    },
    {
      "cell_type": "markdown",
      "metadata": {
        "id": "w893ixnF6H7-"
      },
      "source": [
        "# Анализ реальных данных"
      ]
    },
    {
      "cell_type": "markdown",
      "metadata": {
        "id": "RP2yGEq5EeAf"
      },
      "source": [
        "## Подготовка данных"
      ]
    },
    {
      "cell_type": "code",
      "execution_count": 22,
      "metadata": {
        "colab": {
          "base_uri": "https://localhost:8080/",
          "height": 206
        },
        "id": "wP3lvvjS7GlY",
        "outputId": "25c2ecb8-001e-4643-8682-8e9161c57b5f"
      },
      "outputs": [
        {
          "output_type": "execute_result",
          "data": {
            "text/plain": [
              "   Survived  Pclass                                               Name  \\\n",
              "0         0       3                             Mr. Owen Harris Braund   \n",
              "1         1       1  Mrs. John Bradley (Florence Briggs Thayer) Cum...   \n",
              "2         1       3                              Miss. Laina Heikkinen   \n",
              "3         1       1        Mrs. Jacques Heath (Lily May Peel) Futrelle   \n",
              "4         0       3                            Mr. William Henry Allen   \n",
              "\n",
              "      Sex   Age     Fare  \n",
              "0    male  22.0   7.2500  \n",
              "1  female  38.0  71.2833  \n",
              "2  female  26.0   7.9250  \n",
              "3  female  35.0  53.1000  \n",
              "4    male  35.0   8.0500  "
            ],
            "text/html": [
              "\n",
              "  <div id=\"df-41b8aaec-a8d8-4951-ac5e-2922296f8174\" class=\"colab-df-container\">\n",
              "    <div>\n",
              "<style scoped>\n",
              "    .dataframe tbody tr th:only-of-type {\n",
              "        vertical-align: middle;\n",
              "    }\n",
              "\n",
              "    .dataframe tbody tr th {\n",
              "        vertical-align: top;\n",
              "    }\n",
              "\n",
              "    .dataframe thead th {\n",
              "        text-align: right;\n",
              "    }\n",
              "</style>\n",
              "<table border=\"1\" class=\"dataframe\">\n",
              "  <thead>\n",
              "    <tr style=\"text-align: right;\">\n",
              "      <th></th>\n",
              "      <th>Survived</th>\n",
              "      <th>Pclass</th>\n",
              "      <th>Name</th>\n",
              "      <th>Sex</th>\n",
              "      <th>Age</th>\n",
              "      <th>Fare</th>\n",
              "    </tr>\n",
              "  </thead>\n",
              "  <tbody>\n",
              "    <tr>\n",
              "      <th>0</th>\n",
              "      <td>0</td>\n",
              "      <td>3</td>\n",
              "      <td>Mr. Owen Harris Braund</td>\n",
              "      <td>male</td>\n",
              "      <td>22.0</td>\n",
              "      <td>7.2500</td>\n",
              "    </tr>\n",
              "    <tr>\n",
              "      <th>1</th>\n",
              "      <td>1</td>\n",
              "      <td>1</td>\n",
              "      <td>Mrs. John Bradley (Florence Briggs Thayer) Cum...</td>\n",
              "      <td>female</td>\n",
              "      <td>38.0</td>\n",
              "      <td>71.2833</td>\n",
              "    </tr>\n",
              "    <tr>\n",
              "      <th>2</th>\n",
              "      <td>1</td>\n",
              "      <td>3</td>\n",
              "      <td>Miss. Laina Heikkinen</td>\n",
              "      <td>female</td>\n",
              "      <td>26.0</td>\n",
              "      <td>7.9250</td>\n",
              "    </tr>\n",
              "    <tr>\n",
              "      <th>3</th>\n",
              "      <td>1</td>\n",
              "      <td>1</td>\n",
              "      <td>Mrs. Jacques Heath (Lily May Peel) Futrelle</td>\n",
              "      <td>female</td>\n",
              "      <td>35.0</td>\n",
              "      <td>53.1000</td>\n",
              "    </tr>\n",
              "    <tr>\n",
              "      <th>4</th>\n",
              "      <td>0</td>\n",
              "      <td>3</td>\n",
              "      <td>Mr. William Henry Allen</td>\n",
              "      <td>male</td>\n",
              "      <td>35.0</td>\n",
              "      <td>8.0500</td>\n",
              "    </tr>\n",
              "  </tbody>\n",
              "</table>\n",
              "</div>\n",
              "    <div class=\"colab-df-buttons\">\n",
              "\n",
              "  <div class=\"colab-df-container\">\n",
              "    <button class=\"colab-df-convert\" onclick=\"convertToInteractive('df-41b8aaec-a8d8-4951-ac5e-2922296f8174')\"\n",
              "            title=\"Convert this dataframe to an interactive table.\"\n",
              "            style=\"display:none;\">\n",
              "\n",
              "  <svg xmlns=\"http://www.w3.org/2000/svg\" height=\"24px\" viewBox=\"0 -960 960 960\">\n",
              "    <path d=\"M120-120v-720h720v720H120Zm60-500h600v-160H180v160Zm220 220h160v-160H400v160Zm0 220h160v-160H400v160ZM180-400h160v-160H180v160Zm440 0h160v-160H620v160ZM180-180h160v-160H180v160Zm440 0h160v-160H620v160Z\"/>\n",
              "  </svg>\n",
              "    </button>\n",
              "\n",
              "  <style>\n",
              "    .colab-df-container {\n",
              "      display:flex;\n",
              "      gap: 12px;\n",
              "    }\n",
              "\n",
              "    .colab-df-convert {\n",
              "      background-color: #E8F0FE;\n",
              "      border: none;\n",
              "      border-radius: 50%;\n",
              "      cursor: pointer;\n",
              "      display: none;\n",
              "      fill: #1967D2;\n",
              "      height: 32px;\n",
              "      padding: 0 0 0 0;\n",
              "      width: 32px;\n",
              "    }\n",
              "\n",
              "    .colab-df-convert:hover {\n",
              "      background-color: #E2EBFA;\n",
              "      box-shadow: 0px 1px 2px rgba(60, 64, 67, 0.3), 0px 1px 3px 1px rgba(60, 64, 67, 0.15);\n",
              "      fill: #174EA6;\n",
              "    }\n",
              "\n",
              "    .colab-df-buttons div {\n",
              "      margin-bottom: 4px;\n",
              "    }\n",
              "\n",
              "    [theme=dark] .colab-df-convert {\n",
              "      background-color: #3B4455;\n",
              "      fill: #D2E3FC;\n",
              "    }\n",
              "\n",
              "    [theme=dark] .colab-df-convert:hover {\n",
              "      background-color: #434B5C;\n",
              "      box-shadow: 0px 1px 3px 1px rgba(0, 0, 0, 0.15);\n",
              "      filter: drop-shadow(0px 1px 2px rgba(0, 0, 0, 0.3));\n",
              "      fill: #FFFFFF;\n",
              "    }\n",
              "  </style>\n",
              "\n",
              "    <script>\n",
              "      const buttonEl =\n",
              "        document.querySelector('#df-41b8aaec-a8d8-4951-ac5e-2922296f8174 button.colab-df-convert');\n",
              "      buttonEl.style.display =\n",
              "        google.colab.kernel.accessAllowed ? 'block' : 'none';\n",
              "\n",
              "      async function convertToInteractive(key) {\n",
              "        const element = document.querySelector('#df-41b8aaec-a8d8-4951-ac5e-2922296f8174');\n",
              "        const dataTable =\n",
              "          await google.colab.kernel.invokeFunction('convertToInteractive',\n",
              "                                                    [key], {});\n",
              "        if (!dataTable) return;\n",
              "\n",
              "        const docLinkHtml = 'Like what you see? Visit the ' +\n",
              "          '<a target=\"_blank\" href=https://colab.research.google.com/notebooks/data_table.ipynb>data table notebook</a>'\n",
              "          + ' to learn more about interactive tables.';\n",
              "        element.innerHTML = '';\n",
              "        dataTable['output_type'] = 'display_data';\n",
              "        await google.colab.output.renderOutput(dataTable, element);\n",
              "        const docLink = document.createElement('div');\n",
              "        docLink.innerHTML = docLinkHtml;\n",
              "        element.appendChild(docLink);\n",
              "      }\n",
              "    </script>\n",
              "  </div>\n",
              "\n",
              "\n",
              "<div id=\"df-4b626efe-ec7a-4021-86d1-3f3aad59ade5\">\n",
              "  <button class=\"colab-df-quickchart\" onclick=\"quickchart('df-4b626efe-ec7a-4021-86d1-3f3aad59ade5')\"\n",
              "            title=\"Suggest charts\"\n",
              "            style=\"display:none;\">\n",
              "\n",
              "<svg xmlns=\"http://www.w3.org/2000/svg\" height=\"24px\"viewBox=\"0 0 24 24\"\n",
              "     width=\"24px\">\n",
              "    <g>\n",
              "        <path d=\"M19 3H5c-1.1 0-2 .9-2 2v14c0 1.1.9 2 2 2h14c1.1 0 2-.9 2-2V5c0-1.1-.9-2-2-2zM9 17H7v-7h2v7zm4 0h-2V7h2v10zm4 0h-2v-4h2v4z\"/>\n",
              "    </g>\n",
              "</svg>\n",
              "  </button>\n",
              "\n",
              "<style>\n",
              "  .colab-df-quickchart {\n",
              "      --bg-color: #E8F0FE;\n",
              "      --fill-color: #1967D2;\n",
              "      --hover-bg-color: #E2EBFA;\n",
              "      --hover-fill-color: #174EA6;\n",
              "      --disabled-fill-color: #AAA;\n",
              "      --disabled-bg-color: #DDD;\n",
              "  }\n",
              "\n",
              "  [theme=dark] .colab-df-quickchart {\n",
              "      --bg-color: #3B4455;\n",
              "      --fill-color: #D2E3FC;\n",
              "      --hover-bg-color: #434B5C;\n",
              "      --hover-fill-color: #FFFFFF;\n",
              "      --disabled-bg-color: #3B4455;\n",
              "      --disabled-fill-color: #666;\n",
              "  }\n",
              "\n",
              "  .colab-df-quickchart {\n",
              "    background-color: var(--bg-color);\n",
              "    border: none;\n",
              "    border-radius: 50%;\n",
              "    cursor: pointer;\n",
              "    display: none;\n",
              "    fill: var(--fill-color);\n",
              "    height: 32px;\n",
              "    padding: 0;\n",
              "    width: 32px;\n",
              "  }\n",
              "\n",
              "  .colab-df-quickchart:hover {\n",
              "    background-color: var(--hover-bg-color);\n",
              "    box-shadow: 0 1px 2px rgba(60, 64, 67, 0.3), 0 1px 3px 1px rgba(60, 64, 67, 0.15);\n",
              "    fill: var(--button-hover-fill-color);\n",
              "  }\n",
              "\n",
              "  .colab-df-quickchart-complete:disabled,\n",
              "  .colab-df-quickchart-complete:disabled:hover {\n",
              "    background-color: var(--disabled-bg-color);\n",
              "    fill: var(--disabled-fill-color);\n",
              "    box-shadow: none;\n",
              "  }\n",
              "\n",
              "  .colab-df-spinner {\n",
              "    border: 2px solid var(--fill-color);\n",
              "    border-color: transparent;\n",
              "    border-bottom-color: var(--fill-color);\n",
              "    animation:\n",
              "      spin 1s steps(1) infinite;\n",
              "  }\n",
              "\n",
              "  @keyframes spin {\n",
              "    0% {\n",
              "      border-color: transparent;\n",
              "      border-bottom-color: var(--fill-color);\n",
              "      border-left-color: var(--fill-color);\n",
              "    }\n",
              "    20% {\n",
              "      border-color: transparent;\n",
              "      border-left-color: var(--fill-color);\n",
              "      border-top-color: var(--fill-color);\n",
              "    }\n",
              "    30% {\n",
              "      border-color: transparent;\n",
              "      border-left-color: var(--fill-color);\n",
              "      border-top-color: var(--fill-color);\n",
              "      border-right-color: var(--fill-color);\n",
              "    }\n",
              "    40% {\n",
              "      border-color: transparent;\n",
              "      border-right-color: var(--fill-color);\n",
              "      border-top-color: var(--fill-color);\n",
              "    }\n",
              "    60% {\n",
              "      border-color: transparent;\n",
              "      border-right-color: var(--fill-color);\n",
              "    }\n",
              "    80% {\n",
              "      border-color: transparent;\n",
              "      border-right-color: var(--fill-color);\n",
              "      border-bottom-color: var(--fill-color);\n",
              "    }\n",
              "    90% {\n",
              "      border-color: transparent;\n",
              "      border-bottom-color: var(--fill-color);\n",
              "    }\n",
              "  }\n",
              "</style>\n",
              "\n",
              "  <script>\n",
              "    async function quickchart(key) {\n",
              "      const quickchartButtonEl =\n",
              "        document.querySelector('#' + key + ' button');\n",
              "      quickchartButtonEl.disabled = true;  // To prevent multiple clicks.\n",
              "      quickchartButtonEl.classList.add('colab-df-spinner');\n",
              "      try {\n",
              "        const charts = await google.colab.kernel.invokeFunction(\n",
              "            'suggestCharts', [key], {});\n",
              "      } catch (error) {\n",
              "        console.error('Error during call to suggestCharts:', error);\n",
              "      }\n",
              "      quickchartButtonEl.classList.remove('colab-df-spinner');\n",
              "      quickchartButtonEl.classList.add('colab-df-quickchart-complete');\n",
              "    }\n",
              "    (() => {\n",
              "      let quickchartButtonEl =\n",
              "        document.querySelector('#df-4b626efe-ec7a-4021-86d1-3f3aad59ade5 button');\n",
              "      quickchartButtonEl.style.display =\n",
              "        google.colab.kernel.accessAllowed ? 'block' : 'none';\n",
              "    })();\n",
              "  </script>\n",
              "</div>\n",
              "    </div>\n",
              "  </div>\n"
            ]
          },
          "metadata": {},
          "execution_count": 22
        }
      ],
      "source": [
        "# Загружаем .csv файл в DataFrame:\n",
        "df = pd.read_csv(\"titanic.csv\", usecols=[\"Survived\", \"Pclass\", \"Name\", \"Sex\", \"Age\", \"Fare\"])\n",
        "df.head()"
      ]
    },
    {
      "cell_type": "code",
      "execution_count": null,
      "metadata": {
        "colab": {
          "base_uri": "https://localhost:8080/"
        },
        "id": "XmCtp0Pt8EXl",
        "outputId": "0f05d32d-ad30-45de-de01-a5581ce2b372"
      },
      "outputs": [
        {
          "output_type": "stream",
          "name": "stdout",
          "text": [
            "<class 'pandas.core.frame.DataFrame'>\n",
            "RangeIndex: 887 entries, 0 to 886\n",
            "Data columns (total 6 columns):\n",
            " #   Column    Non-Null Count  Dtype  \n",
            "---  ------    --------------  -----  \n",
            " 0   Survived  887 non-null    int64  \n",
            " 1   Pclass    887 non-null    int64  \n",
            " 2   Name      887 non-null    object \n",
            " 3   Sex       887 non-null    object \n",
            " 4   Age       887 non-null    float64\n",
            " 5   Fare      887 non-null    float64\n",
            "dtypes: float64(2), int64(2), object(2)\n",
            "memory usage: 41.7+ KB\n"
          ]
        }
      ],
      "source": [
        "df.info()"
      ]
    },
    {
      "cell_type": "code",
      "execution_count": 23,
      "metadata": {
        "colab": {
          "base_uri": "https://localhost:8080/"
        },
        "id": "ZuOKl_Av6yJq",
        "outputId": "655a7e52-75f8-4d4d-978f-f0be807a9266"
      },
      "outputs": [
        {
          "output_type": "execute_result",
          "data": {
            "text/plain": [
              "<sqlite3.Cursor at 0x7b991d9684c0>"
            ]
          },
          "metadata": {},
          "execution_count": 23
        }
      ],
      "source": [
        "# Создадим соответствующую таблицу\n",
        "\n",
        "cur.execute(\"\"\"\n",
        "CREATE TABLE titanic(\n",
        "  survived INTEGER NOT NULL,\n",
        "  pclass INTEGER NOT NULL,\n",
        "  name TEXT NOT NULL,\n",
        "  sex TEXT NOT NULL,\n",
        "  age REAL NOT NULL,\n",
        "  fare REAL NOT NULL\n",
        ")\n",
        "\"\"\")"
      ]
    },
    {
      "cell_type": "markdown",
      "metadata": {
        "id": "sy6tDfFJ8ZC1"
      },
      "source": [
        "Можно загружать в таблицу сразу много строк из списка с помощью такой конструкции:\n",
        "\n",
        "```\n",
        "data = [\n",
        "    (0, 3, \"Mr. Owen Harris Braund\", \"male\", 22.0, 7.25),\n",
        "    (1, 1, \"Mrs. John Bradley\", \"female\", 38.0, 71.2833)\n",
        "]\n",
        "cur.executemany(\"INSERT INTO titanic VALUES(?, ?, ?, ?, ?, ?)\", data)\n",
        "```\n"
      ]
    },
    {
      "cell_type": "code",
      "execution_count": 24,
      "metadata": {
        "colab": {
          "base_uri": "https://localhost:8080/"
        },
        "id": "Of594glp-F1v",
        "outputId": "bd5743b6-29da-45f7-8d92-8418b724d09f"
      },
      "outputs": [
        {
          "output_type": "execute_result",
          "data": {
            "text/plain": [
              "array([[0, 3, 'Mr. Owen Harris Braund', 'male', 22.0, 7.25],\n",
              "       [1, 1, 'Mrs. John Bradley (Florence Briggs Thayer) Cumings',\n",
              "        'female', 38.0, 71.2833],\n",
              "       [1, 3, 'Miss. Laina Heikkinen', 'female', 26.0, 7.925],\n",
              "       [1, 1, 'Mrs. Jacques Heath (Lily May Peel) Futrelle', 'female',\n",
              "        35.0, 53.1],\n",
              "       [0, 3, 'Mr. William Henry Allen', 'male', 35.0, 8.05]],\n",
              "      dtype=object)"
            ]
          },
          "metadata": {},
          "execution_count": 24
        }
      ],
      "source": [
        "df.head().values  #  Имеем List[List], а мы хотим List[Tuple]"
      ]
    },
    {
      "cell_type": "code",
      "execution_count": 25,
      "metadata": {
        "colab": {
          "base_uri": "https://localhost:8080/"
        },
        "id": "BV7AzPIo9LIk",
        "outputId": "3652c4ab-6976-44c0-fa83-b0da5a1554d7"
      },
      "outputs": [
        {
          "output_type": "execute_result",
          "data": {
            "text/plain": [
              "[(0, 3, 'Mr. Owen Harris Braund', 'male', 22.0, 7.25),\n",
              " (1,\n",
              "  1,\n",
              "  'Mrs. John Bradley (Florence Briggs Thayer) Cumings',\n",
              "  'female',\n",
              "  38.0,\n",
              "  71.2833),\n",
              " (1, 3, 'Miss. Laina Heikkinen', 'female', 26.0, 7.925),\n",
              " (1, 1, 'Mrs. Jacques Heath (Lily May Peel) Futrelle', 'female', 35.0, 53.1),\n",
              " (0, 3, 'Mr. William Henry Allen', 'male', 35.0, 8.05)]"
            ]
          },
          "metadata": {},
          "execution_count": 25
        }
      ],
      "source": [
        "data = [tuple(val) for val in df.head().values]\n",
        "data  # То, что нужно"
      ]
    },
    {
      "cell_type": "code",
      "execution_count": 26,
      "metadata": {
        "colab": {
          "base_uri": "https://localhost:8080/"
        },
        "id": "flMIxj_1-aXC",
        "outputId": "206c9e6c-8616-42ad-92a2-c1288c17dc76"
      },
      "outputs": [
        {
          "output_type": "execute_result",
          "data": {
            "text/plain": [
              "<sqlite3.Cursor at 0x7b991d9684c0>"
            ]
          },
          "metadata": {},
          "execution_count": 26
        }
      ],
      "source": [
        "data = [tuple(val) for val in df.values]\n",
        "cur.executemany(\"INSERT INTO titanic VALUES(?, ?, ?, ?, ?, ?)\", data)\n"
      ]
    },
    {
      "cell_type": "markdown",
      "metadata": {
        "id": "y3yPHCAm-lGa"
      },
      "source": [
        "Проверим, что мы загрузили все строки в таблицу:\n"
      ]
    },
    {
      "cell_type": "code",
      "execution_count": 27,
      "metadata": {
        "colab": {
          "base_uri": "https://localhost:8080/"
        },
        "id": "_3sRt2Il-s-Q",
        "outputId": "1767e427-6aee-44ea-e1d1-daeba4d425a0"
      },
      "outputs": [
        {
          "output_type": "execute_result",
          "data": {
            "text/plain": [
              "887"
            ]
          },
          "metadata": {},
          "execution_count": 27
        }
      ],
      "source": [
        "df.shape[0]"
      ]
    },
    {
      "cell_type": "code",
      "execution_count": 28,
      "metadata": {
        "colab": {
          "base_uri": "https://localhost:8080/"
        },
        "id": "MF5u5kLq9HYk",
        "outputId": "dd71870b-a889-4ad1-8b10-e6e39aa57f5a"
      },
      "outputs": [
        {
          "output_type": "execute_result",
          "data": {
            "text/plain": [
              "[(887,)]"
            ]
          },
          "metadata": {},
          "execution_count": 28
        }
      ],
      "source": [
        "cur.execute(\"\"\"\n",
        "SELECT COUNT(*) FROM titanic\n",
        "\"\"\").fetchall()"
      ]
    },
    {
      "cell_type": "markdown",
      "metadata": {
        "id": "vqXo11xk-2_i"
      },
      "source": [
        "## Анализ получившихся данных"
      ]
    },
    {
      "cell_type": "markdown",
      "metadata": {
        "id": "TaC5Ks9lAe-W"
      },
      "source": [
        "Выведем имена и возраст погибших пассажирок из первого класса в отсортированном порядке по возрасту (от меньшего к большему):"
      ]
    },
    {
      "cell_type": "code",
      "execution_count": 29,
      "metadata": {
        "colab": {
          "base_uri": "https://localhost:8080/",
          "height": 143
        },
        "id": "1d76vlZFAyKN",
        "outputId": "3a79a2f8-6f98-4494-807f-a3c704705466"
      },
      "outputs": [
        {
          "output_type": "execute_result",
          "data": {
            "text/plain": [
              "     Survived  Pclass                                            Name     Sex  \\\n",
              "295         0       1                     Miss. Helen Loraine Allison  female   \n",
              "495         0       1  Mrs. Hudson J C (Bessie Waldo Daniels) Allison  female   \n",
              "176         0       1                       Miss. Ann Elizabeth Isham  female   \n",
              "\n",
              "      Age      Fare  \n",
              "295   2.0  151.5500  \n",
              "495  25.0  151.5500  \n",
              "176  50.0   28.7125  "
            ],
            "text/html": [
              "\n",
              "  <div id=\"df-b5ef1447-0164-411f-8ec8-51abce0c6915\" class=\"colab-df-container\">\n",
              "    <div>\n",
              "<style scoped>\n",
              "    .dataframe tbody tr th:only-of-type {\n",
              "        vertical-align: middle;\n",
              "    }\n",
              "\n",
              "    .dataframe tbody tr th {\n",
              "        vertical-align: top;\n",
              "    }\n",
              "\n",
              "    .dataframe thead th {\n",
              "        text-align: right;\n",
              "    }\n",
              "</style>\n",
              "<table border=\"1\" class=\"dataframe\">\n",
              "  <thead>\n",
              "    <tr style=\"text-align: right;\">\n",
              "      <th></th>\n",
              "      <th>Survived</th>\n",
              "      <th>Pclass</th>\n",
              "      <th>Name</th>\n",
              "      <th>Sex</th>\n",
              "      <th>Age</th>\n",
              "      <th>Fare</th>\n",
              "    </tr>\n",
              "  </thead>\n",
              "  <tbody>\n",
              "    <tr>\n",
              "      <th>295</th>\n",
              "      <td>0</td>\n",
              "      <td>1</td>\n",
              "      <td>Miss. Helen Loraine Allison</td>\n",
              "      <td>female</td>\n",
              "      <td>2.0</td>\n",
              "      <td>151.5500</td>\n",
              "    </tr>\n",
              "    <tr>\n",
              "      <th>495</th>\n",
              "      <td>0</td>\n",
              "      <td>1</td>\n",
              "      <td>Mrs. Hudson J C (Bessie Waldo Daniels) Allison</td>\n",
              "      <td>female</td>\n",
              "      <td>25.0</td>\n",
              "      <td>151.5500</td>\n",
              "    </tr>\n",
              "    <tr>\n",
              "      <th>176</th>\n",
              "      <td>0</td>\n",
              "      <td>1</td>\n",
              "      <td>Miss. Ann Elizabeth Isham</td>\n",
              "      <td>female</td>\n",
              "      <td>50.0</td>\n",
              "      <td>28.7125</td>\n",
              "    </tr>\n",
              "  </tbody>\n",
              "</table>\n",
              "</div>\n",
              "    <div class=\"colab-df-buttons\">\n",
              "\n",
              "  <div class=\"colab-df-container\">\n",
              "    <button class=\"colab-df-convert\" onclick=\"convertToInteractive('df-b5ef1447-0164-411f-8ec8-51abce0c6915')\"\n",
              "            title=\"Convert this dataframe to an interactive table.\"\n",
              "            style=\"display:none;\">\n",
              "\n",
              "  <svg xmlns=\"http://www.w3.org/2000/svg\" height=\"24px\" viewBox=\"0 -960 960 960\">\n",
              "    <path d=\"M120-120v-720h720v720H120Zm60-500h600v-160H180v160Zm220 220h160v-160H400v160Zm0 220h160v-160H400v160ZM180-400h160v-160H180v160Zm440 0h160v-160H620v160ZM180-180h160v-160H180v160Zm440 0h160v-160H620v160Z\"/>\n",
              "  </svg>\n",
              "    </button>\n",
              "\n",
              "  <style>\n",
              "    .colab-df-container {\n",
              "      display:flex;\n",
              "      gap: 12px;\n",
              "    }\n",
              "\n",
              "    .colab-df-convert {\n",
              "      background-color: #E8F0FE;\n",
              "      border: none;\n",
              "      border-radius: 50%;\n",
              "      cursor: pointer;\n",
              "      display: none;\n",
              "      fill: #1967D2;\n",
              "      height: 32px;\n",
              "      padding: 0 0 0 0;\n",
              "      width: 32px;\n",
              "    }\n",
              "\n",
              "    .colab-df-convert:hover {\n",
              "      background-color: #E2EBFA;\n",
              "      box-shadow: 0px 1px 2px rgba(60, 64, 67, 0.3), 0px 1px 3px 1px rgba(60, 64, 67, 0.15);\n",
              "      fill: #174EA6;\n",
              "    }\n",
              "\n",
              "    .colab-df-buttons div {\n",
              "      margin-bottom: 4px;\n",
              "    }\n",
              "\n",
              "    [theme=dark] .colab-df-convert {\n",
              "      background-color: #3B4455;\n",
              "      fill: #D2E3FC;\n",
              "    }\n",
              "\n",
              "    [theme=dark] .colab-df-convert:hover {\n",
              "      background-color: #434B5C;\n",
              "      box-shadow: 0px 1px 3px 1px rgba(0, 0, 0, 0.15);\n",
              "      filter: drop-shadow(0px 1px 2px rgba(0, 0, 0, 0.3));\n",
              "      fill: #FFFFFF;\n",
              "    }\n",
              "  </style>\n",
              "\n",
              "    <script>\n",
              "      const buttonEl =\n",
              "        document.querySelector('#df-b5ef1447-0164-411f-8ec8-51abce0c6915 button.colab-df-convert');\n",
              "      buttonEl.style.display =\n",
              "        google.colab.kernel.accessAllowed ? 'block' : 'none';\n",
              "\n",
              "      async function convertToInteractive(key) {\n",
              "        const element = document.querySelector('#df-b5ef1447-0164-411f-8ec8-51abce0c6915');\n",
              "        const dataTable =\n",
              "          await google.colab.kernel.invokeFunction('convertToInteractive',\n",
              "                                                    [key], {});\n",
              "        if (!dataTable) return;\n",
              "\n",
              "        const docLinkHtml = 'Like what you see? Visit the ' +\n",
              "          '<a target=\"_blank\" href=https://colab.research.google.com/notebooks/data_table.ipynb>data table notebook</a>'\n",
              "          + ' to learn more about interactive tables.';\n",
              "        element.innerHTML = '';\n",
              "        dataTable['output_type'] = 'display_data';\n",
              "        await google.colab.output.renderOutput(dataTable, element);\n",
              "        const docLink = document.createElement('div');\n",
              "        docLink.innerHTML = docLinkHtml;\n",
              "        element.appendChild(docLink);\n",
              "      }\n",
              "    </script>\n",
              "  </div>\n",
              "\n",
              "\n",
              "<div id=\"df-0539ef7e-19e2-4d73-8b06-1f1c9951075e\">\n",
              "  <button class=\"colab-df-quickchart\" onclick=\"quickchart('df-0539ef7e-19e2-4d73-8b06-1f1c9951075e')\"\n",
              "            title=\"Suggest charts\"\n",
              "            style=\"display:none;\">\n",
              "\n",
              "<svg xmlns=\"http://www.w3.org/2000/svg\" height=\"24px\"viewBox=\"0 0 24 24\"\n",
              "     width=\"24px\">\n",
              "    <g>\n",
              "        <path d=\"M19 3H5c-1.1 0-2 .9-2 2v14c0 1.1.9 2 2 2h14c1.1 0 2-.9 2-2V5c0-1.1-.9-2-2-2zM9 17H7v-7h2v7zm4 0h-2V7h2v10zm4 0h-2v-4h2v4z\"/>\n",
              "    </g>\n",
              "</svg>\n",
              "  </button>\n",
              "\n",
              "<style>\n",
              "  .colab-df-quickchart {\n",
              "      --bg-color: #E8F0FE;\n",
              "      --fill-color: #1967D2;\n",
              "      --hover-bg-color: #E2EBFA;\n",
              "      --hover-fill-color: #174EA6;\n",
              "      --disabled-fill-color: #AAA;\n",
              "      --disabled-bg-color: #DDD;\n",
              "  }\n",
              "\n",
              "  [theme=dark] .colab-df-quickchart {\n",
              "      --bg-color: #3B4455;\n",
              "      --fill-color: #D2E3FC;\n",
              "      --hover-bg-color: #434B5C;\n",
              "      --hover-fill-color: #FFFFFF;\n",
              "      --disabled-bg-color: #3B4455;\n",
              "      --disabled-fill-color: #666;\n",
              "  }\n",
              "\n",
              "  .colab-df-quickchart {\n",
              "    background-color: var(--bg-color);\n",
              "    border: none;\n",
              "    border-radius: 50%;\n",
              "    cursor: pointer;\n",
              "    display: none;\n",
              "    fill: var(--fill-color);\n",
              "    height: 32px;\n",
              "    padding: 0;\n",
              "    width: 32px;\n",
              "  }\n",
              "\n",
              "  .colab-df-quickchart:hover {\n",
              "    background-color: var(--hover-bg-color);\n",
              "    box-shadow: 0 1px 2px rgba(60, 64, 67, 0.3), 0 1px 3px 1px rgba(60, 64, 67, 0.15);\n",
              "    fill: var(--button-hover-fill-color);\n",
              "  }\n",
              "\n",
              "  .colab-df-quickchart-complete:disabled,\n",
              "  .colab-df-quickchart-complete:disabled:hover {\n",
              "    background-color: var(--disabled-bg-color);\n",
              "    fill: var(--disabled-fill-color);\n",
              "    box-shadow: none;\n",
              "  }\n",
              "\n",
              "  .colab-df-spinner {\n",
              "    border: 2px solid var(--fill-color);\n",
              "    border-color: transparent;\n",
              "    border-bottom-color: var(--fill-color);\n",
              "    animation:\n",
              "      spin 1s steps(1) infinite;\n",
              "  }\n",
              "\n",
              "  @keyframes spin {\n",
              "    0% {\n",
              "      border-color: transparent;\n",
              "      border-bottom-color: var(--fill-color);\n",
              "      border-left-color: var(--fill-color);\n",
              "    }\n",
              "    20% {\n",
              "      border-color: transparent;\n",
              "      border-left-color: var(--fill-color);\n",
              "      border-top-color: var(--fill-color);\n",
              "    }\n",
              "    30% {\n",
              "      border-color: transparent;\n",
              "      border-left-color: var(--fill-color);\n",
              "      border-top-color: var(--fill-color);\n",
              "      border-right-color: var(--fill-color);\n",
              "    }\n",
              "    40% {\n",
              "      border-color: transparent;\n",
              "      border-right-color: var(--fill-color);\n",
              "      border-top-color: var(--fill-color);\n",
              "    }\n",
              "    60% {\n",
              "      border-color: transparent;\n",
              "      border-right-color: var(--fill-color);\n",
              "    }\n",
              "    80% {\n",
              "      border-color: transparent;\n",
              "      border-right-color: var(--fill-color);\n",
              "      border-bottom-color: var(--fill-color);\n",
              "    }\n",
              "    90% {\n",
              "      border-color: transparent;\n",
              "      border-bottom-color: var(--fill-color);\n",
              "    }\n",
              "  }\n",
              "</style>\n",
              "\n",
              "  <script>\n",
              "    async function quickchart(key) {\n",
              "      const quickchartButtonEl =\n",
              "        document.querySelector('#' + key + ' button');\n",
              "      quickchartButtonEl.disabled = true;  // To prevent multiple clicks.\n",
              "      quickchartButtonEl.classList.add('colab-df-spinner');\n",
              "      try {\n",
              "        const charts = await google.colab.kernel.invokeFunction(\n",
              "            'suggestCharts', [key], {});\n",
              "      } catch (error) {\n",
              "        console.error('Error during call to suggestCharts:', error);\n",
              "      }\n",
              "      quickchartButtonEl.classList.remove('colab-df-spinner');\n",
              "      quickchartButtonEl.classList.add('colab-df-quickchart-complete');\n",
              "    }\n",
              "    (() => {\n",
              "      let quickchartButtonEl =\n",
              "        document.querySelector('#df-0539ef7e-19e2-4d73-8b06-1f1c9951075e button');\n",
              "      quickchartButtonEl.style.display =\n",
              "        google.colab.kernel.accessAllowed ? 'block' : 'none';\n",
              "    })();\n",
              "  </script>\n",
              "</div>\n",
              "    </div>\n",
              "  </div>\n"
            ]
          },
          "metadata": {},
          "execution_count": 29
        }
      ],
      "source": [
        "df[(df[\"Pclass\"] == 1) & (df[\"Survived\"] == 0) & (df[\"Sex\"] == \"female\")].sort_values(\"Age\")"
      ]
    },
    {
      "cell_type": "code",
      "execution_count": 30,
      "metadata": {
        "colab": {
          "base_uri": "https://localhost:8080/"
        },
        "id": "cf8rn7gEBpQ8",
        "outputId": "3977984d-5f4c-4a32-bbd9-0f350f8ff4d5"
      },
      "outputs": [
        {
          "output_type": "execute_result",
          "data": {
            "text/plain": [
              "[('Miss. Helen Loraine Allison', 2.0),\n",
              " ('Mrs. Hudson J C (Bessie Waldo Daniels) Allison', 25.0),\n",
              " ('Miss. Ann Elizabeth Isham', 50.0)]"
            ]
          },
          "metadata": {},
          "execution_count": 30
        }
      ],
      "source": [
        "cur.execute(\"\"\"\n",
        "SELECT name, age\n",
        "FROM titanic\n",
        "WHERE pclass = 1\n",
        "      AND sex = 'female'\n",
        "      AND survived = 0\n",
        "ORDER BY age\n",
        "\"\"\").fetchall()"
      ]
    },
    {
      "cell_type": "markdown",
      "metadata": {
        "id": "7Ft1OvjX_JiG"
      },
      "source": [
        "Узнаем средний возраст выживших и погибших:"
      ]
    },
    {
      "cell_type": "code",
      "execution_count": 31,
      "metadata": {
        "colab": {
          "base_uri": "https://localhost:8080/"
        },
        "id": "cgwE2dr3_K1J",
        "outputId": "b5b2d800-70f2-4e51-9b07-751cc1d410c9"
      },
      "outputs": [
        {
          "output_type": "execute_result",
          "data": {
            "text/plain": [
              "Survived\n",
              "0    30.138532\n",
              "1    28.408392\n",
              "Name: Age, dtype: float64"
            ]
          },
          "metadata": {},
          "execution_count": 31
        }
      ],
      "source": [
        "df.groupby([\"Survived\"])[\"Age\"].mean()"
      ]
    },
    {
      "cell_type": "code",
      "execution_count": 32,
      "metadata": {
        "colab": {
          "base_uri": "https://localhost:8080/"
        },
        "id": "7YGyvB7k_Xoh",
        "outputId": "a8384d03-73c6-4fe7-d26f-56afd20b96cc"
      },
      "outputs": [
        {
          "output_type": "execute_result",
          "data": {
            "text/plain": [
              "[(0, 30.13853211009174), (1, 28.408391812865496)]"
            ]
          },
          "metadata": {},
          "execution_count": 32
        }
      ],
      "source": [
        "cur.execute(\"\"\"\n",
        "SELECT survived, AVG(age)\n",
        "FROM titanic\n",
        "GROUP BY survived\n",
        "\"\"\").fetchall()"
      ]
    },
    {
      "cell_type": "markdown",
      "metadata": {
        "id": "Sei9tO1wXjCN"
      },
      "source": [
        "### Задание 2.2.1"
      ]
    },
    {
      "cell_type": "markdown",
      "metadata": {
        "id": "of9MT_tn_l_Z"
      },
      "source": [
        "(**1 балл**) Вывести минимальный возраст погибших (только погибших!) отдельно среди мужчин и отдельно среди женщин (в одном запросе)."
      ]
    },
    {
      "cell_type": "code",
      "execution_count": 33,
      "metadata": {
        "id": "6NHZYGODAMf-",
        "colab": {
          "base_uri": "https://localhost:8080/",
          "height": 143
        },
        "outputId": "6a530269-1476-4f9d-88c8-8a13d4e46769"
      },
      "outputs": [
        {
          "output_type": "execute_result",
          "data": {
            "text/plain": [
              "        Survived  Age\n",
              "Sex                  \n",
              "female         0  2.0\n",
              "male           0  1.0"
            ],
            "text/html": [
              "\n",
              "  <div id=\"df-6aed9196-cf7b-4463-b6f3-6ef00c850800\" class=\"colab-df-container\">\n",
              "    <div>\n",
              "<style scoped>\n",
              "    .dataframe tbody tr th:only-of-type {\n",
              "        vertical-align: middle;\n",
              "    }\n",
              "\n",
              "    .dataframe tbody tr th {\n",
              "        vertical-align: top;\n",
              "    }\n",
              "\n",
              "    .dataframe thead th {\n",
              "        text-align: right;\n",
              "    }\n",
              "</style>\n",
              "<table border=\"1\" class=\"dataframe\">\n",
              "  <thead>\n",
              "    <tr style=\"text-align: right;\">\n",
              "      <th></th>\n",
              "      <th>Survived</th>\n",
              "      <th>Age</th>\n",
              "    </tr>\n",
              "    <tr>\n",
              "      <th>Sex</th>\n",
              "      <th></th>\n",
              "      <th></th>\n",
              "    </tr>\n",
              "  </thead>\n",
              "  <tbody>\n",
              "    <tr>\n",
              "      <th>female</th>\n",
              "      <td>0</td>\n",
              "      <td>2.0</td>\n",
              "    </tr>\n",
              "    <tr>\n",
              "      <th>male</th>\n",
              "      <td>0</td>\n",
              "      <td>1.0</td>\n",
              "    </tr>\n",
              "  </tbody>\n",
              "</table>\n",
              "</div>\n",
              "    <div class=\"colab-df-buttons\">\n",
              "\n",
              "  <div class=\"colab-df-container\">\n",
              "    <button class=\"colab-df-convert\" onclick=\"convertToInteractive('df-6aed9196-cf7b-4463-b6f3-6ef00c850800')\"\n",
              "            title=\"Convert this dataframe to an interactive table.\"\n",
              "            style=\"display:none;\">\n",
              "\n",
              "  <svg xmlns=\"http://www.w3.org/2000/svg\" height=\"24px\" viewBox=\"0 -960 960 960\">\n",
              "    <path d=\"M120-120v-720h720v720H120Zm60-500h600v-160H180v160Zm220 220h160v-160H400v160Zm0 220h160v-160H400v160ZM180-400h160v-160H180v160Zm440 0h160v-160H620v160ZM180-180h160v-160H180v160Zm440 0h160v-160H620v160Z\"/>\n",
              "  </svg>\n",
              "    </button>\n",
              "\n",
              "  <style>\n",
              "    .colab-df-container {\n",
              "      display:flex;\n",
              "      gap: 12px;\n",
              "    }\n",
              "\n",
              "    .colab-df-convert {\n",
              "      background-color: #E8F0FE;\n",
              "      border: none;\n",
              "      border-radius: 50%;\n",
              "      cursor: pointer;\n",
              "      display: none;\n",
              "      fill: #1967D2;\n",
              "      height: 32px;\n",
              "      padding: 0 0 0 0;\n",
              "      width: 32px;\n",
              "    }\n",
              "\n",
              "    .colab-df-convert:hover {\n",
              "      background-color: #E2EBFA;\n",
              "      box-shadow: 0px 1px 2px rgba(60, 64, 67, 0.3), 0px 1px 3px 1px rgba(60, 64, 67, 0.15);\n",
              "      fill: #174EA6;\n",
              "    }\n",
              "\n",
              "    .colab-df-buttons div {\n",
              "      margin-bottom: 4px;\n",
              "    }\n",
              "\n",
              "    [theme=dark] .colab-df-convert {\n",
              "      background-color: #3B4455;\n",
              "      fill: #D2E3FC;\n",
              "    }\n",
              "\n",
              "    [theme=dark] .colab-df-convert:hover {\n",
              "      background-color: #434B5C;\n",
              "      box-shadow: 0px 1px 3px 1px rgba(0, 0, 0, 0.15);\n",
              "      filter: drop-shadow(0px 1px 2px rgba(0, 0, 0, 0.3));\n",
              "      fill: #FFFFFF;\n",
              "    }\n",
              "  </style>\n",
              "\n",
              "    <script>\n",
              "      const buttonEl =\n",
              "        document.querySelector('#df-6aed9196-cf7b-4463-b6f3-6ef00c850800 button.colab-df-convert');\n",
              "      buttonEl.style.display =\n",
              "        google.colab.kernel.accessAllowed ? 'block' : 'none';\n",
              "\n",
              "      async function convertToInteractive(key) {\n",
              "        const element = document.querySelector('#df-6aed9196-cf7b-4463-b6f3-6ef00c850800');\n",
              "        const dataTable =\n",
              "          await google.colab.kernel.invokeFunction('convertToInteractive',\n",
              "                                                    [key], {});\n",
              "        if (!dataTable) return;\n",
              "\n",
              "        const docLinkHtml = 'Like what you see? Visit the ' +\n",
              "          '<a target=\"_blank\" href=https://colab.research.google.com/notebooks/data_table.ipynb>data table notebook</a>'\n",
              "          + ' to learn more about interactive tables.';\n",
              "        element.innerHTML = '';\n",
              "        dataTable['output_type'] = 'display_data';\n",
              "        await google.colab.output.renderOutput(dataTable, element);\n",
              "        const docLink = document.createElement('div');\n",
              "        docLink.innerHTML = docLinkHtml;\n",
              "        element.appendChild(docLink);\n",
              "      }\n",
              "    </script>\n",
              "  </div>\n",
              "\n",
              "\n",
              "<div id=\"df-bcfa5b83-abd5-4b5a-b6a6-c21765d8aefe\">\n",
              "  <button class=\"colab-df-quickchart\" onclick=\"quickchart('df-bcfa5b83-abd5-4b5a-b6a6-c21765d8aefe')\"\n",
              "            title=\"Suggest charts\"\n",
              "            style=\"display:none;\">\n",
              "\n",
              "<svg xmlns=\"http://www.w3.org/2000/svg\" height=\"24px\"viewBox=\"0 0 24 24\"\n",
              "     width=\"24px\">\n",
              "    <g>\n",
              "        <path d=\"M19 3H5c-1.1 0-2 .9-2 2v14c0 1.1.9 2 2 2h14c1.1 0 2-.9 2-2V5c0-1.1-.9-2-2-2zM9 17H7v-7h2v7zm4 0h-2V7h2v10zm4 0h-2v-4h2v4z\"/>\n",
              "    </g>\n",
              "</svg>\n",
              "  </button>\n",
              "\n",
              "<style>\n",
              "  .colab-df-quickchart {\n",
              "      --bg-color: #E8F0FE;\n",
              "      --fill-color: #1967D2;\n",
              "      --hover-bg-color: #E2EBFA;\n",
              "      --hover-fill-color: #174EA6;\n",
              "      --disabled-fill-color: #AAA;\n",
              "      --disabled-bg-color: #DDD;\n",
              "  }\n",
              "\n",
              "  [theme=dark] .colab-df-quickchart {\n",
              "      --bg-color: #3B4455;\n",
              "      --fill-color: #D2E3FC;\n",
              "      --hover-bg-color: #434B5C;\n",
              "      --hover-fill-color: #FFFFFF;\n",
              "      --disabled-bg-color: #3B4455;\n",
              "      --disabled-fill-color: #666;\n",
              "  }\n",
              "\n",
              "  .colab-df-quickchart {\n",
              "    background-color: var(--bg-color);\n",
              "    border: none;\n",
              "    border-radius: 50%;\n",
              "    cursor: pointer;\n",
              "    display: none;\n",
              "    fill: var(--fill-color);\n",
              "    height: 32px;\n",
              "    padding: 0;\n",
              "    width: 32px;\n",
              "  }\n",
              "\n",
              "  .colab-df-quickchart:hover {\n",
              "    background-color: var(--hover-bg-color);\n",
              "    box-shadow: 0 1px 2px rgba(60, 64, 67, 0.3), 0 1px 3px 1px rgba(60, 64, 67, 0.15);\n",
              "    fill: var(--button-hover-fill-color);\n",
              "  }\n",
              "\n",
              "  .colab-df-quickchart-complete:disabled,\n",
              "  .colab-df-quickchart-complete:disabled:hover {\n",
              "    background-color: var(--disabled-bg-color);\n",
              "    fill: var(--disabled-fill-color);\n",
              "    box-shadow: none;\n",
              "  }\n",
              "\n",
              "  .colab-df-spinner {\n",
              "    border: 2px solid var(--fill-color);\n",
              "    border-color: transparent;\n",
              "    border-bottom-color: var(--fill-color);\n",
              "    animation:\n",
              "      spin 1s steps(1) infinite;\n",
              "  }\n",
              "\n",
              "  @keyframes spin {\n",
              "    0% {\n",
              "      border-color: transparent;\n",
              "      border-bottom-color: var(--fill-color);\n",
              "      border-left-color: var(--fill-color);\n",
              "    }\n",
              "    20% {\n",
              "      border-color: transparent;\n",
              "      border-left-color: var(--fill-color);\n",
              "      border-top-color: var(--fill-color);\n",
              "    }\n",
              "    30% {\n",
              "      border-color: transparent;\n",
              "      border-left-color: var(--fill-color);\n",
              "      border-top-color: var(--fill-color);\n",
              "      border-right-color: var(--fill-color);\n",
              "    }\n",
              "    40% {\n",
              "      border-color: transparent;\n",
              "      border-right-color: var(--fill-color);\n",
              "      border-top-color: var(--fill-color);\n",
              "    }\n",
              "    60% {\n",
              "      border-color: transparent;\n",
              "      border-right-color: var(--fill-color);\n",
              "    }\n",
              "    80% {\n",
              "      border-color: transparent;\n",
              "      border-right-color: var(--fill-color);\n",
              "      border-bottom-color: var(--fill-color);\n",
              "    }\n",
              "    90% {\n",
              "      border-color: transparent;\n",
              "      border-bottom-color: var(--fill-color);\n",
              "    }\n",
              "  }\n",
              "</style>\n",
              "\n",
              "  <script>\n",
              "    async function quickchart(key) {\n",
              "      const quickchartButtonEl =\n",
              "        document.querySelector('#' + key + ' button');\n",
              "      quickchartButtonEl.disabled = true;  // To prevent multiple clicks.\n",
              "      quickchartButtonEl.classList.add('colab-df-spinner');\n",
              "      try {\n",
              "        const charts = await google.colab.kernel.invokeFunction(\n",
              "            'suggestCharts', [key], {});\n",
              "      } catch (error) {\n",
              "        console.error('Error during call to suggestCharts:', error);\n",
              "      }\n",
              "      quickchartButtonEl.classList.remove('colab-df-spinner');\n",
              "      quickchartButtonEl.classList.add('colab-df-quickchart-complete');\n",
              "    }\n",
              "    (() => {\n",
              "      let quickchartButtonEl =\n",
              "        document.querySelector('#df-bcfa5b83-abd5-4b5a-b6a6-c21765d8aefe button');\n",
              "      quickchartButtonEl.style.display =\n",
              "        google.colab.kernel.accessAllowed ? 'block' : 'none';\n",
              "    })();\n",
              "  </script>\n",
              "</div>\n",
              "    </div>\n",
              "  </div>\n"
            ]
          },
          "metadata": {},
          "execution_count": 33
        }
      ],
      "source": [
        "# Ваш код на Pandas\n",
        "df[(df[\"Survived\"] == 0)].groupby([\"Sex\"])[[\"Survived\", \"Age\"]].min()\n"
      ]
    },
    {
      "cell_type": "code",
      "execution_count": 34,
      "metadata": {
        "id": "596UUfdiAQy6",
        "colab": {
          "base_uri": "https://localhost:8080/"
        },
        "outputId": "289425ac-ae29-4528-e735-4f2119c44249"
      },
      "outputs": [
        {
          "output_type": "execute_result",
          "data": {
            "text/plain": [
              "[('female', 0, 2.0), ('male', 0, 1.0)]"
            ]
          },
          "metadata": {},
          "execution_count": 34
        }
      ],
      "source": [
        "# Ваш код на SQL\n",
        "cur.execute(\"\"\"\n",
        "SELECT sex, survived, MIN(age)\n",
        "FROM titanic\n",
        "WHERE survived = 0\n",
        "GROUP BY sex\n",
        "\"\"\").fetchall()\n"
      ]
    },
    {
      "cell_type": "markdown",
      "source": [
        "**+1 балл**"
      ],
      "metadata": {
        "id": "2-gVNF8nciuZ"
      }
    },
    {
      "cell_type": "markdown",
      "metadata": {
        "id": "Yctmoe9nXjCR"
      },
      "source": [
        "### Задание 2.2.2"
      ]
    },
    {
      "cell_type": "markdown",
      "metadata": {
        "id": "-tJTHHN5Cdth"
      },
      "source": [
        "(**1 балл**) Вывести долю выживших по каждому классу и полу"
      ]
    },
    {
      "cell_type": "code",
      "execution_count": 35,
      "metadata": {
        "id": "xQd5NmWjCgwB",
        "colab": {
          "base_uri": "https://localhost:8080/"
        },
        "outputId": "ef136b4a-b579-4c75-a564-f013c4d47089"
      },
      "outputs": [
        {
          "output_type": "execute_result",
          "data": {
            "text/plain": [
              "Pclass  Sex   \n",
              "1       female    0.968085\n",
              "        male      0.368852\n",
              "2       female    0.921053\n",
              "        male      0.157407\n",
              "3       female    0.500000\n",
              "        male      0.137026\n",
              "Name: Survived, dtype: float64"
            ]
          },
          "metadata": {},
          "execution_count": 35
        }
      ],
      "source": [
        "# Ваш код на Pandas\n",
        "df.groupby([\"Pclass\", \"Sex\"])[\"Survived\"].mean()\n"
      ]
    },
    {
      "cell_type": "code",
      "execution_count": 36,
      "metadata": {
        "id": "-1CJcJs4ChmG",
        "colab": {
          "base_uri": "https://localhost:8080/"
        },
        "outputId": "22c71f74-710d-4a42-ec22-4fb192663b37"
      },
      "outputs": [
        {
          "output_type": "execute_result",
          "data": {
            "text/plain": [
              "[(1, 'female', 0.9680851063829787),\n",
              " (1, 'male', 0.36885245901639346),\n",
              " (2, 'female', 0.9210526315789473),\n",
              " (2, 'male', 0.1574074074074074),\n",
              " (3, 'female', 0.5),\n",
              " (3, 'male', 0.13702623906705538)]"
            ]
          },
          "metadata": {},
          "execution_count": 36
        }
      ],
      "source": [
        "# Ваш код на SQL\n",
        "cur.execute(\"\"\"\n",
        "SELECT pclass, sex, AVG(survived)\n",
        "FROM titanic\n",
        "GROUP BY pclass, sex\n",
        "\"\"\").fetchall()\n"
      ]
    },
    {
      "cell_type": "markdown",
      "source": [
        "**+1 балл**\n",
        "\n",
        "PS: когда речь про доли, то можно оставлять без умножения на 100 - это окей"
      ],
      "metadata": {
        "id": "_OxAwWbqcnTh"
      }
    },
    {
      "cell_type": "markdown",
      "source": [
        "Всё отлично!"
      ],
      "metadata": {
        "id": "Wh5y0SfMc1Ei"
      }
    }
  ],
  "metadata": {
    "colab": {
      "provenance": []
    },
    "kernelspec": {
      "display_name": "Python 3 (ipykernel)",
      "language": "python",
      "name": "python3"
    },
    "language_info": {
      "codemirror_mode": {
        "name": "ipython",
        "version": 3
      },
      "file_extension": ".py",
      "mimetype": "text/x-python",
      "name": "python",
      "nbconvert_exporter": "python",
      "pygments_lexer": "ipython3",
      "version": "3.8.16"
    }
  },
  "nbformat": 4,
  "nbformat_minor": 0
}